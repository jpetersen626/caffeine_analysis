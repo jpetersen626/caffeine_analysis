{
 "cells": [
  {
   "cell_type": "markdown",
   "id": "21bb93c8-360f-4cf1-b823-b304ca3638e5",
   "metadata": {},
   "source": [
    "## Modeling"
   ]
  },
  {
   "cell_type": "code",
   "execution_count": 137,
   "id": "cfb487a6-e06c-42a8-aba2-6724c2134303",
   "metadata": {},
   "outputs": [],
   "source": [
    "import pandas as pd\n",
    "import numpy as np\n",
    "import matplotlib.pyplot as plt\n",
    "import seaborn as sns\n",
    "from sklearn.ensemble import ExtraTreesClassifier, RandomForestClassifier, VotingClassifier\n",
    "from sklearn.model_selection import GridSearchCV, train_test_split\n",
    "from sklearn.metrics import ConfusionMatrixDisplay, balanced_accuracy_score\n",
    "from sklearn.linear_model import LogisticRegression, LinearRegression\n",
    "from sklearn.feature_extraction.text import CountVectorizer\n",
    "from sklearn.neighbors import KNeighborsClassifier\n",
    "from sklearn.tree import DecisionTreeClassifier\n",
    "from sklearn.pipeline import make_pipeline\n",
    "from sklearn.preprocessing import StandardScaler\n",
    "from sklearn.compose import make_column_selector, make_column_transformer\n",
    "from imblearn.pipeline import make_pipeline as imb_pipeline\n",
    "from imblearn.over_sampling import RandomOverSampler, SMOTE, ADASYN"
   ]
  },
  {
   "cell_type": "code",
   "execution_count": 2,
   "id": "760b4100-ab9d-4927-92c0-012ccf0f16ba",
   "metadata": {},
   "outputs": [],
   "source": [
    "data = pd.read_csv('../data/caffeine.csv')"
   ]
  },
  {
   "cell_type": "markdown",
   "id": "128414b1-2577-49f7-902e-2e37627e2cbc",
   "metadata": {},
   "source": [
    "### Baseline Model"
   ]
  },
  {
   "cell_type": "code",
   "execution_count": 3,
   "id": "bbec6b2a-7d28-4842-be63-cf2801222b5e",
   "metadata": {},
   "outputs": [
    {
     "data": {
      "text/plain": [
       "Energy Drinks    0.359016\n",
       "Coffee           0.283607\n",
       "Soft Drinks      0.147541\n",
       "Tea              0.108197\n",
       "Energy Shots     0.059016\n",
       "Water            0.042623\n",
       "Name: type, dtype: float64"
      ]
     },
     "execution_count": 3,
     "metadata": {},
     "output_type": "execute_result"
    }
   ],
   "source": [
    "data['type'].value_counts(normalize=True)"
   ]
  },
  {
   "cell_type": "markdown",
   "id": "c067c47b-f8e5-416b-8983-8d40a7058249",
   "metadata": {},
   "source": [
    "> The majority class is 'Energy Drinks'. They have a frequency of 0.36, so that is the baseline model score and the one to improve upon."
   ]
  },
  {
   "cell_type": "markdown",
   "id": "35057c9a-215e-40b3-bcac-14cd966de1a1",
   "metadata": {},
   "source": [
    "#### Simple Logistic Regression with Caffeine Content Only"
   ]
  },
  {
   "cell_type": "code",
   "execution_count": 26,
   "id": "0ea8362d-d60a-42c8-86dc-cd52148ff921",
   "metadata": {},
   "outputs": [],
   "source": [
    "X = data[['Caffeine (mg)']]\n",
    "y = data['type']\n",
    "X_train, X_test, y_train, y_test = train_test_split(X, y, stratify=y, random_state=42)"
   ]
  },
  {
   "cell_type": "code",
   "execution_count": 27,
   "id": "07d110f4-2f19-4d69-99a7-7e6a43e6234c",
   "metadata": {},
   "outputs": [],
   "source": [
    "ss = StandardScaler()\n",
    "X_train_sc = ss.fit_transform(X_train)\n",
    "X_test_sc = ss.transform(X_test)"
   ]
  },
  {
   "cell_type": "code",
   "execution_count": 28,
   "id": "f1c6c5cc-ee42-47b2-8c67-d3399a40c35f",
   "metadata": {},
   "outputs": [
    {
     "name": "stdout",
     "output_type": "stream",
     "text": [
      "0.45076586433260396 0.48366013071895425\n",
      "0.31194656371602786\n"
     ]
    }
   ],
   "source": [
    "lr = LogisticRegression(max_iter=10_000)\n",
    "lr.fit(X_train_sc, y_train)\n",
    "print(lr.score(X_train_sc, y_train), lr.score(X_test_sc, y_test))\n",
    "print(balanced_accuracy_score(y_test, lr.predict(X_test_sc)))"
   ]
  },
  {
   "cell_type": "markdown",
   "id": "ef50f65c-1775-42ce-a583-fbc9e22df72e",
   "metadata": {},
   "source": [
    "> As these scores are super low, Caffeine as a sole estimator of the type of drink is not great. Will try the other features."
   ]
  },
  {
   "cell_type": "markdown",
   "id": "8316eb2d-6fb0-457a-8e4b-b9b4be8476b9",
   "metadata": {},
   "source": [
    "#### Simple Logistic Regression with All Features Except Drink Name"
   ]
  },
  {
   "cell_type": "code",
   "execution_count": 14,
   "id": "99892dc0-ad6b-41ad-8dcd-eab356ad20b1",
   "metadata": {},
   "outputs": [
    {
     "data": {
      "text/html": [
       "<div>\n",
       "<style scoped>\n",
       "    .dataframe tbody tr th:only-of-type {\n",
       "        vertical-align: middle;\n",
       "    }\n",
       "\n",
       "    .dataframe tbody tr th {\n",
       "        vertical-align: top;\n",
       "    }\n",
       "\n",
       "    .dataframe thead th {\n",
       "        text-align: right;\n",
       "    }\n",
       "</style>\n",
       "<table border=\"1\" class=\"dataframe\">\n",
       "  <thead>\n",
       "    <tr style=\"text-align: right;\">\n",
       "      <th></th>\n",
       "      <th>drink</th>\n",
       "      <th>Volume (ml)</th>\n",
       "      <th>Calories</th>\n",
       "      <th>Caffeine (mg)</th>\n",
       "      <th>type</th>\n",
       "    </tr>\n",
       "  </thead>\n",
       "  <tbody>\n",
       "    <tr>\n",
       "      <th>0</th>\n",
       "      <td>Costa Coffee</td>\n",
       "      <td>256.993715</td>\n",
       "      <td>0</td>\n",
       "      <td>277</td>\n",
       "      <td>Coffee</td>\n",
       "    </tr>\n",
       "    <tr>\n",
       "      <th>1</th>\n",
       "      <td>Coffee Friend Brewed Coffee</td>\n",
       "      <td>250.191810</td>\n",
       "      <td>0</td>\n",
       "      <td>145</td>\n",
       "      <td>Coffee</td>\n",
       "    </tr>\n",
       "  </tbody>\n",
       "</table>\n",
       "</div>"
      ],
      "text/plain": [
       "                         drink  Volume (ml)  Calories  Caffeine (mg)    type\n",
       "0                 Costa Coffee   256.993715         0            277  Coffee\n",
       "1  Coffee Friend Brewed Coffee   250.191810         0            145  Coffee"
      ]
     },
     "execution_count": 14,
     "metadata": {},
     "output_type": "execute_result"
    }
   ],
   "source": [
    "data.head(2)"
   ]
  },
  {
   "cell_type": "code",
   "execution_count": 29,
   "id": "8d09bd03-1d74-4c7c-a961-482d40b1a4ca",
   "metadata": {},
   "outputs": [],
   "source": [
    "X = data.drop(columns=['drink', 'type'])\n",
    "y = data['type']\n",
    "X_train, X_test, y_train, y_test = train_test_split(X, y, stratify=y, random_state=42)"
   ]
  },
  {
   "cell_type": "code",
   "execution_count": 30,
   "id": "53311cf5-4bc7-4a92-bf02-427590fdef50",
   "metadata": {},
   "outputs": [],
   "source": [
    "ss = StandardScaler()\n",
    "X_train_sc = ss.fit_transform(X_train)\n",
    "X_test_sc = ss.transform(X_test)"
   ]
  },
  {
   "cell_type": "code",
   "execution_count": 31,
   "id": "21df1299-81ae-465f-a0ad-e1a63da071b6",
   "metadata": {},
   "outputs": [
    {
     "name": "stdout",
     "output_type": "stream",
     "text": [
      "0.5864332603938731 0.6209150326797386\n",
      "0.5491128197456634\n"
     ]
    }
   ],
   "source": [
    "lr = LogisticRegression(max_iter=10_000)\n",
    "lr.fit(X_train_sc, y_train)\n",
    "print(lr.score(X_train_sc, y_train), lr.score(X_test_sc, y_test))\n",
    "print(balanced_accuracy_score(y_test, lr.predict(X_test_sc)))"
   ]
  },
  {
   "cell_type": "markdown",
   "id": "31f48d1f-eade-4bb7-9a44-fba84f80ea77",
   "metadata": {
    "tags": []
   },
   "source": [
    "> The scores here improve, but not by a large margin. Will add drink names in next."
   ]
  },
  {
   "cell_type": "markdown",
   "id": "13e87d5b-7c68-4744-a1ed-8f9a2834e96f",
   "metadata": {},
   "source": [
    "#### Simple Logistic Regression with All Features"
   ]
  },
  {
   "cell_type": "code",
   "execution_count": 32,
   "id": "5122218e-30e1-4cba-b0d0-ae677ef84586",
   "metadata": {},
   "outputs": [],
   "source": [
    "X = data.drop(columns='type')\n",
    "y = data['type']\n",
    "X_train, X_test, y_train, y_test = train_test_split(X, y, stratify=y, random_state=42)"
   ]
  },
  {
   "cell_type": "code",
   "execution_count": 36,
   "id": "10710827-1072-411a-9855-5f6e0f4eb305",
   "metadata": {},
   "outputs": [],
   "source": [
    "ct = make_column_transformer(\n",
    "    (CountVectorizer(), 'drink'), \n",
    "    (StandardScaler(), ['Volume (ml)', 'Calories', 'Caffeine (mg)']), \n",
    "    remainder='passthrough'\n",
    ")"
   ]
  },
  {
   "cell_type": "code",
   "execution_count": 37,
   "id": "d0762368-bd05-4908-a385-523a1816249b",
   "metadata": {},
   "outputs": [
    {
     "name": "stdout",
     "output_type": "stream",
     "text": [
      "0.9890590809628009 0.9084967320261438\n",
      "0.9167440478657988\n"
     ]
    }
   ],
   "source": [
    "pipe1 = make_pipeline(ct, LogisticRegression(max_iter=10_000))\n",
    "pipe1.fit(X_train, y_train)\n",
    "print(pipe1.score(X_train, y_train), pipe1.score(X_test, y_test))\n",
    "print(balanced_accuracy_score(y_test, pipe1.predict(X_test)))"
   ]
  },
  {
   "cell_type": "markdown",
   "id": "b4a38e13-2925-4928-b82b-8c83df30ea0a",
   "metadata": {},
   "source": [
    "> This model is doing significantly better. My guess is because the common words in the drink name correspond to the type name. Will now try with adding those top words to stop words."
   ]
  },
  {
   "cell_type": "markdown",
   "id": "16e4b587-885a-4487-9f4b-518eb6be79d4",
   "metadata": {},
   "source": [
    "#### Logistic Regression with All Features, Adding Common Words to Stop Words"
   ]
  },
  {
   "cell_type": "code",
   "execution_count": 114,
   "id": "1e9b0d57-0729-4c9e-912e-a895965cade6",
   "metadata": {},
   "outputs": [],
   "source": [
    "stop_words = ['coffee', 'energy', 'drink', 'cola', 'tea', 'shot', 'water', 'sparkling']\n",
    "ct2 = make_column_transformer(\n",
    "    (CountVectorizer(stop_words=stop_words), 'drink'), \n",
    "    (StandardScaler(), ['Volume (ml)', 'Calories', 'Caffeine (mg)']),\n",
    "    remainder='passthrough'\n",
    ")"
   ]
  },
  {
   "cell_type": "code",
   "execution_count": 115,
   "id": "c72679cd-d598-445e-9c90-f2a070d14ebe",
   "metadata": {},
   "outputs": [
    {
     "name": "stdout",
     "output_type": "stream",
     "text": [
      "0.9671772428884027 0.869281045751634\n",
      "0.8042300420489917\n"
     ]
    }
   ],
   "source": [
    "pipe2 = make_pipeline(ct2, LogisticRegression(max_iter=10_000))\n",
    "pipe2.fit(X_train, y_train)\n",
    "print(pipe2.score(X_train, y_train), pipe2.score(X_test, y_test))\n",
    "print(balanced_accuracy_score(y_test, pipe2.predict(X_test)))"
   ]
  },
  {
   "cell_type": "markdown",
   "id": "2f103002-81e0-4f52-910c-0b6a921883bc",
   "metadata": {},
   "source": [
    "> As expected, the scores went down, but not as low as I thought they might. The other words in the drink names seem to be having an influence over predicting the type of drink."
   ]
  },
  {
   "cell_type": "code",
   "execution_count": 118,
   "id": "a1f64a63-36a5-4b06-bbbe-5a052d46c8ed",
   "metadata": {},
   "outputs": [
    {
     "data": {
      "text/plain": [
       "array(['Coffee', 'Energy Drinks', 'Energy Shots', 'Soft Drinks', 'Tea',\n",
       "       'Water'], dtype=object)"
      ]
     },
     "execution_count": 118,
     "metadata": {},
     "output_type": "execute_result"
    }
   ],
   "source": [
    "pipe2.named_steps['logisticregression'].classes_"
   ]
  },
  {
   "cell_type": "code",
   "execution_count": 117,
   "id": "f705c872-8503-4bb4-b3cc-eedfd07b4557",
   "metadata": {},
   "outputs": [
    {
     "data": {
      "text/html": [
       "<div>\n",
       "<style scoped>\n",
       "    .dataframe tbody tr th:only-of-type {\n",
       "        vertical-align: middle;\n",
       "    }\n",
       "\n",
       "    .dataframe tbody tr th {\n",
       "        vertical-align: top;\n",
       "    }\n",
       "\n",
       "    .dataframe thead th {\n",
       "        text-align: right;\n",
       "    }\n",
       "</style>\n",
       "<table border=\"1\" class=\"dataframe\">\n",
       "  <thead>\n",
       "    <tr style=\"text-align: right;\">\n",
       "      <th></th>\n",
       "      <th>coefs</th>\n",
       "    </tr>\n",
       "  </thead>\n",
       "  <tbody>\n",
       "    <tr>\n",
       "      <th>countvectorizer__diet</th>\n",
       "      <td>4.275796</td>\n",
       "    </tr>\n",
       "    <tr>\n",
       "      <th>countvectorizer__pepsi</th>\n",
       "      <td>2.807569</td>\n",
       "    </tr>\n",
       "    <tr>\n",
       "      <th>countvectorizer__soda</th>\n",
       "      <td>2.799715</td>\n",
       "    </tr>\n",
       "    <tr>\n",
       "      <th>countvectorizer__mountain</th>\n",
       "      <td>1.659327</td>\n",
       "    </tr>\n",
       "    <tr>\n",
       "      <th>countvectorizer__coca</th>\n",
       "      <td>1.557014</td>\n",
       "    </tr>\n",
       "    <tr>\n",
       "      <th>...</th>\n",
       "      <td>...</td>\n",
       "    </tr>\n",
       "    <tr>\n",
       "      <th>countvectorizer__train</th>\n",
       "      <td>-0.329707</td>\n",
       "    </tr>\n",
       "    <tr>\n",
       "      <th>countvectorizer__black</th>\n",
       "      <td>-0.334916</td>\n",
       "    </tr>\n",
       "    <tr>\n",
       "      <th>countvectorizer__sobe</th>\n",
       "      <td>-0.368339</td>\n",
       "    </tr>\n",
       "    <tr>\n",
       "      <th>countvectorizer__iced</th>\n",
       "      <td>-0.615082</td>\n",
       "    </tr>\n",
       "    <tr>\n",
       "      <th>standardscaler__Caffeine (mg)</th>\n",
       "      <td>-0.933866</td>\n",
       "    </tr>\n",
       "  </tbody>\n",
       "</table>\n",
       "<p>556 rows × 1 columns</p>\n",
       "</div>"
      ],
      "text/plain": [
       "                                  coefs\n",
       "countvectorizer__diet          4.275796\n",
       "countvectorizer__pepsi         2.807569\n",
       "countvectorizer__soda          2.799715\n",
       "countvectorizer__mountain      1.659327\n",
       "countvectorizer__coca          1.557014\n",
       "...                                 ...\n",
       "countvectorizer__train        -0.329707\n",
       "countvectorizer__black        -0.334916\n",
       "countvectorizer__sobe         -0.368339\n",
       "countvectorizer__iced         -0.615082\n",
       "standardscaler__Caffeine (mg) -0.933866\n",
       "\n",
       "[556 rows x 1 columns]"
      ]
     },
     "execution_count": 117,
     "metadata": {},
     "output_type": "execute_result"
    }
   ],
   "source": [
    "np.expm1(pd.DataFrame(pipe2.named_steps['logisticregression'].coef_[3],\\\n",
    "             index=pipe2.named_steps['columntransformer'].get_feature_names_out(),\\\n",
    "             columns=['coefs']).sort_values(by='coefs', ascending=False))"
   ]
  },
  {
   "cell_type": "code",
   "execution_count": 65,
   "id": "dd1301fa-e139-4fb5-837f-a10f71df6260",
   "metadata": {},
   "outputs": [
    {
     "data": {
      "image/png": "[encoded data removed]",
      "text/plain": [
       "<Figure size 720x720 with 2 Axes>"
      ]
     },
     "metadata": {
      "needs_background": "light"
     },
     "output_type": "display_data"
    }
   ],
   "source": [
    "fig, ax = plt.subplots(figsize=(10, 10))\n",
    "ConfusionMatrixDisplay.from_estimator(pipe2, X_test, y_test, ax=ax, normalize='pred');"
   ]
  },
  {
   "cell_type": "markdown",
   "id": "3b163cbc-f363-4ff5-a1f4-9056efafceff",
   "metadata": {},
   "source": [
    "> As water is our smallest class, this model is having the hardest time predicting that - it's only correct in the test set around 60% of the time. Will try to work with imblearn to improve that score."
   ]
  },
  {
   "cell_type": "markdown",
   "id": "731acb34-fa2e-4af6-8b26-09c227d447b1",
   "metadata": {},
   "source": [
    "### Working with imblearn for Unbalanced Data"
   ]
  },
  {
   "cell_type": "markdown",
   "id": "972fd28d-90c0-4ce4-bee9-34a1f2439a59",
   "metadata": {},
   "source": [
    "#### RandomOverSampler"
   ]
  },
  {
   "cell_type": "code",
   "execution_count": 75,
   "id": "569525d8-f1ee-4943-9097-b7af606134ce",
   "metadata": {},
   "outputs": [],
   "source": [
    "pipe3 = imb_pipeline(\n",
    "    ct2, \n",
    "    RandomOverSampler(random_state=42), \n",
    "    LogisticRegression(max_iter=10_000)\n",
    ")"
   ]
  },
  {
   "cell_type": "code",
   "execution_count": 91,
   "id": "1b73778c-6a0e-4f85-81eb-c01b27ae3b1d",
   "metadata": {},
   "outputs": [
    {
     "name": "stdout",
     "output_type": "stream",
     "text": [
      "0.9842072470667301 0.8633962596283419\n",
      "{'randomoversampler__sampling_strategy': 'auto'}\n"
     ]
    }
   ],
   "source": [
    "gs1 = GridSearchCV(\n",
    "    pipe3, \n",
    "    {'randomoversampler__sampling_strategy': ['minority', 'auto', 'all']}, \n",
    "    n_jobs=-1,\n",
    "    scoring='balanced_accuracy'\n",
    ")\n",
    "gs1.fit(X_train, y_train)\n",
    "\n",
    "print(gs1.score(X_train, y_train), gs1.score(X_test, y_test))\n",
    "print(gs1.best_params_)"
   ]
  },
  {
   "cell_type": "markdown",
   "id": "0ab30d16-da25-4616-8df2-2d9f844c405d",
   "metadata": {},
   "source": [
    "> The balanced accuracy here improved over the Logistic Regression model with pipe2."
   ]
  },
  {
   "cell_type": "code",
   "execution_count": 100,
   "id": "0508b390-1239-422c-8c3c-2dbd3f5c9e89",
   "metadata": {},
   "outputs": [
    {
     "data": {
      "image/png": "[encoded data removed]",
      "text/plain": [
       "<Figure size 720x720 with 2 Axes>"
      ]
     },
     "metadata": {
      "needs_background": "light"
     },
     "output_type": "display_data"
    }
   ],
   "source": [
    "fig, ax = plt.subplots(figsize=(10, 10))\n",
    "ConfusionMatrixDisplay.from_estimator(gs1, X_test, y_test, normalize='pred', ax=ax)\n",
    "plt.title('RandomOverSampler with imblearn');"
   ]
  },
  {
   "cell_type": "markdown",
   "id": "7fce5927-d8e6-4a29-a201-89ffc079a934",
   "metadata": {},
   "source": [
    "---"
   ]
  },
  {
   "cell_type": "markdown",
   "id": "2e5683b8-3d2c-4095-9116-4863772a0209",
   "metadata": {},
   "source": [
    "#### SMOTE"
   ]
  },
  {
   "cell_type": "markdown",
   "id": "11e75193-5708-4811-a17b-da032b3b8193",
   "metadata": {},
   "source": [
    "> This wound up being the best performing model"
   ]
  },
  {
   "cell_type": "code",
   "execution_count": 87,
   "id": "a52ec3dc-ef42-4a0d-913a-d356b66ed9f6",
   "metadata": {
    "tags": []
   },
   "outputs": [],
   "source": [
    "pipe4 = imb_pipeline(\n",
    "    ct2,\n",
    "    SMOTE(random_state=42),\n",
    "    LogisticRegression(max_iter=10_000)\n",
    ")"
   ]
  },
  {
   "cell_type": "code",
   "execution_count": 89,
   "id": "c0130a11-8a53-4ccf-b5da-0e3b5d25f52e",
   "metadata": {},
   "outputs": [],
   "source": [
    "gs2 = GridSearchCV(\n",
    "    pipe4, \n",
    "    {'logisticregression__C': [.1,1,10]}, \n",
    "    n_jobs=-1,\n",
    "    scoring='balanced_accuracy'\n",
    ")"
   ]
  },
  {
   "cell_type": "code",
   "execution_count": 92,
   "id": "35e81eb2-a842-44e6-ab2d-c367ed6a4386",
   "metadata": {},
   "outputs": [
    {
     "name": "stdout",
     "output_type": "stream",
     "text": [
      "1.0 0.8604986100822655\n",
      "{'logisticregression__C': 10}\n"
     ]
    }
   ],
   "source": [
    "gs2.fit(X_train, y_train)\n",
    "print(gs2.score(X_train, y_train), gs2.score(X_test, y_test))\n",
    "print(gs2.best_params_)"
   ]
  },
  {
   "cell_type": "code",
   "execution_count": 102,
   "id": "8315eae2-b958-4bd4-a85a-2796ebd6dbda",
   "metadata": {},
   "outputs": [
    {
     "data": {
      "image/png": "[encoded data removed]",
      "text/plain": [
       "<Figure size 720x720 with 2 Axes>"
      ]
     },
     "metadata": {
      "needs_background": "light"
     },
     "output_type": "display_data"
    }
   ],
   "source": [
    "fig, ax = plt.subplots(figsize=(10, 10))\n",
    "ConfusionMatrixDisplay.from_estimator(gs2, X_test, y_test, normalize='pred', ax=ax)\n",
    "plt.title('SMOTE with imblearn');"
   ]
  },
  {
   "cell_type": "markdown",
   "id": "d31f5693-7679-4b9c-9923-d4616eb6e012",
   "metadata": {},
   "source": [
    "> This test score is just slightly lower than the RandomOverSampler, but it seems to be doing better at predicting the water class."
   ]
  },
  {
   "cell_type": "code",
   "execution_count": 126,
   "id": "fdbdb7ee-3c3a-4b41-8e6c-56ac2f200f2f",
   "metadata": {},
   "outputs": [
    {
     "data": {
      "text/plain": [
       "Energy Drinks    219\n",
       "Coffee           173\n",
       "Soft Drinks       90\n",
       "Tea               66\n",
       "Energy Shots      36\n",
       "Water             26\n",
       "Name: type, dtype: int64"
      ]
     },
     "execution_count": 126,
     "metadata": {},
     "output_type": "execute_result"
    }
   ],
   "source": [
    "data['type'].value_counts()"
   ]
  },
  {
   "cell_type": "code",
   "execution_count": 121,
   "id": "d2051f46-2085-410b-bf0e-d7df0548beac",
   "metadata": {},
   "outputs": [
    {
     "data": {
      "text/plain": [
       "array(['Coffee', 'Energy Drinks', 'Energy Shots', 'Soft Drinks', 'Tea',\n",
       "       'Water'], dtype=object)"
      ]
     },
     "execution_count": 121,
     "metadata": {},
     "output_type": "execute_result"
    }
   ],
   "source": [
    "gs2.best_estimator_.named_steps['logisticregression'].classes_"
   ]
  },
  {
   "cell_type": "markdown",
   "id": "68f04995-ee41-4f85-96ae-3b0fdeb9966f",
   "metadata": {},
   "source": [
    "##### Coffee Coefs"
   ]
  },
  {
   "cell_type": "code",
   "execution_count": 130,
   "id": "25757c22-a915-4fb6-a3c6-624141f71628",
   "metadata": {},
   "outputs": [
    {
     "data": {
      "text/html": [
       "<div>\n",
       "<style scoped>\n",
       "    .dataframe tbody tr th:only-of-type {\n",
       "        vertical-align: middle;\n",
       "    }\n",
       "\n",
       "    .dataframe tbody tr th {\n",
       "        vertical-align: top;\n",
       "    }\n",
       "\n",
       "    .dataframe thead th {\n",
       "        text-align: right;\n",
       "    }\n",
       "</style>\n",
       "<table border=\"1\" class=\"dataframe\">\n",
       "  <thead>\n",
       "    <tr style=\"text-align: right;\">\n",
       "      <th></th>\n",
       "      <th>coefs</th>\n",
       "    </tr>\n",
       "  </thead>\n",
       "  <tbody>\n",
       "    <tr>\n",
       "      <th>Caffeine (mg)</th>\n",
       "      <td>65.456289</td>\n",
       "    </tr>\n",
       "    <tr>\n",
       "      <th>espresso</th>\n",
       "      <td>43.808971</td>\n",
       "    </tr>\n",
       "    <tr>\n",
       "      <th>decaf</th>\n",
       "      <td>28.488559</td>\n",
       "    </tr>\n",
       "    <tr>\n",
       "      <th>starbucks</th>\n",
       "      <td>21.305476</td>\n",
       "    </tr>\n",
       "    <tr>\n",
       "      <th>cappuccino</th>\n",
       "      <td>17.447013</td>\n",
       "    </tr>\n",
       "  </tbody>\n",
       "</table>\n",
       "</div>"
      ],
      "text/plain": [
       "                   coefs\n",
       "Caffeine (mg)  65.456289\n",
       "espresso       43.808971\n",
       "decaf          28.488559\n",
       "starbucks      21.305476\n",
       "cappuccino     17.447013"
      ]
     },
     "execution_count": 130,
     "metadata": {},
     "output_type": "execute_result"
    }
   ],
   "source": [
    "np.expm1(pd.DataFrame(gs2.best_estimator_.named_steps['logisticregression'].coef_[0],\\\n",
    "            index=gs2.best_estimator_.named_steps['columntransformer'].get_feature_names_out(),\n",
    "            columns=['coefs']).sort_values(by='coefs', ascending=False)).head()"
   ]
  },
  {
   "cell_type": "markdown",
   "id": "8cff5282-bd5c-4553-be2a-15f78b5340e8",
   "metadata": {},
   "source": [
    "> Caffeine content is the strongest predictor of this class."
   ]
  },
  {
   "cell_type": "markdown",
   "id": "a3dc4631-c84b-4da8-84ad-d351af51ed24",
   "metadata": {},
   "source": [
    "##### Energy Drinks Coefs"
   ]
  },
  {
   "cell_type": "code",
   "execution_count": 131,
   "id": "6b2bd625-a1da-4e31-8b40-817323862f2c",
   "metadata": {},
   "outputs": [
    {
     "data": {
      "text/html": [
       "<div>\n",
       "<style scoped>\n",
       "    .dataframe tbody tr th:only-of-type {\n",
       "        vertical-align: middle;\n",
       "    }\n",
       "\n",
       "    .dataframe tbody tr th {\n",
       "        vertical-align: top;\n",
       "    }\n",
       "\n",
       "    .dataframe thead th {\n",
       "        text-align: right;\n",
       "    }\n",
       "</style>\n",
       "<table border=\"1\" class=\"dataframe\">\n",
       "  <thead>\n",
       "    <tr style=\"text-align: right;\">\n",
       "      <th></th>\n",
       "      <th>coefs</th>\n",
       "    </tr>\n",
       "  </thead>\n",
       "  <tbody>\n",
       "    <tr>\n",
       "      <th>Caffeine (mg)</th>\n",
       "      <td>25.811382</td>\n",
       "    </tr>\n",
       "    <tr>\n",
       "      <th>mix</th>\n",
       "      <td>20.117791</td>\n",
       "    </tr>\n",
       "    <tr>\n",
       "      <th>uk</th>\n",
       "      <td>7.588626</td>\n",
       "    </tr>\n",
       "    <tr>\n",
       "      <th>bruin</th>\n",
       "      <td>5.795741</td>\n",
       "    </tr>\n",
       "    <tr>\n",
       "      <th>tiger</th>\n",
       "      <td>4.937920</td>\n",
       "    </tr>\n",
       "  </tbody>\n",
       "</table>\n",
       "</div>"
      ],
      "text/plain": [
       "                   coefs\n",
       "Caffeine (mg)  25.811382\n",
       "mix            20.117791\n",
       "uk              7.588626\n",
       "bruin           5.795741\n",
       "tiger           4.937920"
      ]
     },
     "execution_count": 131,
     "metadata": {},
     "output_type": "execute_result"
    }
   ],
   "source": [
    "np.expm1(pd.DataFrame(gs2.best_estimator_.named_steps['logisticregression'].coef_[1],\\\n",
    "            index=gs2.best_estimator_.named_steps['columntransformer'].get_feature_names_out(),\n",
    "            columns=['coefs']).sort_values(by='coefs', ascending=False)).head()"
   ]
  },
  {
   "cell_type": "markdown",
   "id": "f2e44797-983e-4a6a-8170-18f3c1ac5a56",
   "metadata": {},
   "source": [
    "> Caffeine content is the strongest predictor in the Energy Drink class."
   ]
  },
  {
   "cell_type": "markdown",
   "id": "80743e23-bdeb-43ad-9054-aa44070c53c8",
   "metadata": {},
   "source": [
    "##### Energy Shots Coefs"
   ]
  },
  {
   "cell_type": "code",
   "execution_count": 132,
   "id": "ba2a461f-74dc-4ff8-8126-7f3cabff9e20",
   "metadata": {},
   "outputs": [
    {
     "data": {
      "text/html": [
       "<div>\n",
       "<style scoped>\n",
       "    .dataframe tbody tr th:only-of-type {\n",
       "        vertical-align: middle;\n",
       "    }\n",
       "\n",
       "    .dataframe tbody tr th {\n",
       "        vertical-align: top;\n",
       "    }\n",
       "\n",
       "    .dataframe thead th {\n",
       "        text-align: right;\n",
       "    }\n",
       "</style>\n",
       "<table border=\"1\" class=\"dataframe\">\n",
       "  <thead>\n",
       "    <tr style=\"text-align: right;\">\n",
       "      <th></th>\n",
       "      <th>coefs</th>\n",
       "    </tr>\n",
       "  </thead>\n",
       "  <tbody>\n",
       "    <tr>\n",
       "      <th>Caffeine (mg)</th>\n",
       "      <td>114.268040</td>\n",
       "    </tr>\n",
       "    <tr>\n",
       "      <th>e6</th>\n",
       "      <td>2.812930</td>\n",
       "    </tr>\n",
       "    <tr>\n",
       "      <th>eternal</th>\n",
       "      <td>2.326281</td>\n",
       "    </tr>\n",
       "    <tr>\n",
       "      <th>eleven</th>\n",
       "      <td>2.046869</td>\n",
       "    </tr>\n",
       "    <tr>\n",
       "      <th>potion</th>\n",
       "      <td>1.872149</td>\n",
       "    </tr>\n",
       "  </tbody>\n",
       "</table>\n",
       "</div>"
      ],
      "text/plain": [
       "                    coefs\n",
       "Caffeine (mg)  114.268040\n",
       "e6               2.812930\n",
       "eternal          2.326281\n",
       "eleven           2.046869\n",
       "potion           1.872149"
      ]
     },
     "execution_count": 132,
     "metadata": {},
     "output_type": "execute_result"
    }
   ],
   "source": [
    "np.expm1(pd.DataFrame(gs2.best_estimator_.named_steps['logisticregression'].coef_[2],\\\n",
    "            index=gs2.best_estimator_.named_steps['columntransformer'].get_feature_names_out(),\n",
    "            columns=['coefs']).sort_values(by='coefs', ascending=False)).head()"
   ]
  },
  {
   "cell_type": "markdown",
   "id": "76240c97-a49d-413f-900c-eaf400c445ff",
   "metadata": {},
   "source": [
    "> Caffeine content was the strongest predictor of Energy Shots out of all the classes."
   ]
  },
  {
   "cell_type": "markdown",
   "id": "2dc7de1e-6561-417d-af3e-171e03db3f5f",
   "metadata": {},
   "source": [
    "##### Soft Drinks Coefs"
   ]
  },
  {
   "cell_type": "code",
   "execution_count": 133,
   "id": "0e361fa3-9e9b-4670-80cd-88bec177dd80",
   "metadata": {},
   "outputs": [
    {
     "data": {
      "text/html": [
       "<div>\n",
       "<style scoped>\n",
       "    .dataframe tbody tr th:only-of-type {\n",
       "        vertical-align: middle;\n",
       "    }\n",
       "\n",
       "    .dataframe tbody tr th {\n",
       "        vertical-align: top;\n",
       "    }\n",
       "\n",
       "    .dataframe thead th {\n",
       "        text-align: right;\n",
       "    }\n",
       "</style>\n",
       "<table border=\"1\" class=\"dataframe\">\n",
       "  <thead>\n",
       "    <tr style=\"text-align: right;\">\n",
       "      <th></th>\n",
       "      <th>coefs</th>\n",
       "    </tr>\n",
       "  </thead>\n",
       "  <tbody>\n",
       "    <tr>\n",
       "      <th>zevia</th>\n",
       "      <td>43.254276</td>\n",
       "    </tr>\n",
       "    <tr>\n",
       "      <th>diet</th>\n",
       "      <td>30.242690</td>\n",
       "    </tr>\n",
       "    <tr>\n",
       "      <th>pepsi</th>\n",
       "      <td>18.785641</td>\n",
       "    </tr>\n",
       "    <tr>\n",
       "      <th>fresca</th>\n",
       "      <td>16.078169</td>\n",
       "    </tr>\n",
       "    <tr>\n",
       "      <th>soda</th>\n",
       "      <td>11.394640</td>\n",
       "    </tr>\n",
       "  </tbody>\n",
       "</table>\n",
       "</div>"
      ],
      "text/plain": [
       "            coefs\n",
       "zevia   43.254276\n",
       "diet    30.242690\n",
       "pepsi   18.785641\n",
       "fresca  16.078169\n",
       "soda    11.394640"
      ]
     },
     "execution_count": 133,
     "metadata": {},
     "output_type": "execute_result"
    }
   ],
   "source": [
    "np.expm1(pd.DataFrame(gs2.best_estimator_.named_steps['logisticregression'].coef_[3],\\\n",
    "            index=gs2.best_estimator_.named_steps['columntransformer'].get_feature_names_out(),\n",
    "            columns=['coefs']).sort_values(by='coefs', ascending=False)).head()"
   ]
  },
  {
   "cell_type": "markdown",
   "id": "cdee1909-f4dc-4ced-bae7-38f3f7ff18b7",
   "metadata": {},
   "source": [
    "> Fresca and Zevia weren't in top words. SMOTE changed their count, so if Zevia and Fresca were to show up more, they would carry more weight in predicting this class."
   ]
  },
  {
   "cell_type": "markdown",
   "id": "45c46a2c-50b5-4397-a91e-cf2b786a920a",
   "metadata": {},
   "source": [
    "##### Tea Coefs"
   ]
  },
  {
   "cell_type": "code",
   "execution_count": 134,
   "id": "bc9b172a-eb74-47b5-8daf-d55120e0e71d",
   "metadata": {},
   "outputs": [
    {
     "data": {
      "text/html": [
       "<div>\n",
       "<style scoped>\n",
       "    .dataframe tbody tr th:only-of-type {\n",
       "        vertical-align: middle;\n",
       "    }\n",
       "\n",
       "    .dataframe tbody tr th {\n",
       "        vertical-align: top;\n",
       "    }\n",
       "\n",
       "    .dataframe thead th {\n",
       "        text-align: right;\n",
       "    }\n",
       "</style>\n",
       "<table border=\"1\" class=\"dataframe\">\n",
       "  <thead>\n",
       "    <tr style=\"text-align: right;\">\n",
       "      <th></th>\n",
       "      <th>coefs</th>\n",
       "    </tr>\n",
       "  </thead>\n",
       "  <tbody>\n",
       "    <tr>\n",
       "      <th>iced</th>\n",
       "      <td>65.171581</td>\n",
       "    </tr>\n",
       "    <tr>\n",
       "      <th>green</th>\n",
       "      <td>16.593620</td>\n",
       "    </tr>\n",
       "    <tr>\n",
       "      <th>snapple</th>\n",
       "      <td>16.042533</td>\n",
       "    </tr>\n",
       "    <tr>\n",
       "      <th>hicaf</th>\n",
       "      <td>15.307544</td>\n",
       "    </tr>\n",
       "    <tr>\n",
       "      <th>guayusa</th>\n",
       "      <td>15.030532</td>\n",
       "    </tr>\n",
       "  </tbody>\n",
       "</table>\n",
       "</div>"
      ],
      "text/plain": [
       "             coefs\n",
       "iced     65.171581\n",
       "green    16.593620\n",
       "snapple  16.042533\n",
       "hicaf    15.307544\n",
       "guayusa  15.030532"
      ]
     },
     "execution_count": 134,
     "metadata": {},
     "output_type": "execute_result"
    }
   ],
   "source": [
    "np.expm1(pd.DataFrame(gs2.best_estimator_.named_steps['logisticregression'].coef_[4],\\\n",
    "            index=gs2.best_estimator_.named_steps['columntransformer'].get_feature_names_out(),\n",
    "            columns=['coefs']).sort_values(by='coefs', ascending=False)).head()"
   ]
  },
  {
   "cell_type": "markdown",
   "id": "045a3b29-03f8-4522-9fe2-fa1be7931a32",
   "metadata": {},
   "source": [
    "> Hicaf, guayusa didn't show up during EDA very much. Since the counts were adjusted, they would carry more weight if they showed up in the test set more often."
   ]
  },
  {
   "cell_type": "markdown",
   "id": "e039615e-6cf1-42e5-89bb-29c91687910e",
   "metadata": {},
   "source": [
    "##### Water Coefs"
   ]
  },
  {
   "cell_type": "code",
   "execution_count": 136,
   "id": "e4bd07ea-9e5e-403d-af51-398a315ba4f1",
   "metadata": {},
   "outputs": [
    {
     "data": {
      "text/html": [
       "<div>\n",
       "<style scoped>\n",
       "    .dataframe tbody tr th:only-of-type {\n",
       "        vertical-align: middle;\n",
       "    }\n",
       "\n",
       "    .dataframe tbody tr th {\n",
       "        vertical-align: top;\n",
       "    }\n",
       "\n",
       "    .dataframe thead th {\n",
       "        text-align: right;\n",
       "    }\n",
       "</style>\n",
       "<table border=\"1\" class=\"dataframe\">\n",
       "  <thead>\n",
       "    <tr style=\"text-align: right;\">\n",
       "      <th></th>\n",
       "      <th>coefs</th>\n",
       "    </tr>\n",
       "  </thead>\n",
       "  <tbody>\n",
       "    <tr>\n",
       "      <th>guru</th>\n",
       "      <td>37.719097</td>\n",
       "    </tr>\n",
       "    <tr>\n",
       "      <th>yerbae</th>\n",
       "      <td>28.934627</td>\n",
       "    </tr>\n",
       "    <tr>\n",
       "      <th>arti</th>\n",
       "      <td>25.656447</td>\n",
       "    </tr>\n",
       "    <tr>\n",
       "      <th>Volume (ml)</th>\n",
       "      <td>22.837656</td>\n",
       "    </tr>\n",
       "    <tr>\n",
       "      <th>phocus</th>\n",
       "      <td>22.651022</td>\n",
       "    </tr>\n",
       "  </tbody>\n",
       "</table>\n",
       "</div>"
      ],
      "text/plain": [
       "                 coefs\n",
       "guru         37.719097\n",
       "yerbae       28.934627\n",
       "arti         25.656447\n",
       "Volume (ml)  22.837656\n",
       "phocus       22.651022"
      ]
     },
     "execution_count": 136,
     "metadata": {},
     "output_type": "execute_result"
    }
   ],
   "source": [
    "np.expm1(pd.DataFrame(gs2.best_estimator_.named_steps['logisticregression'].coef_[5],\\\n",
    "            index=gs2.best_estimator_.named_steps['columntransformer'].get_feature_names_out(),\n",
    "            columns=['coefs']).sort_values(by='coefs', ascending=False)).head()"
   ]
  },
  {
   "cell_type": "markdown",
   "id": "cf6a1798-8312-4d85-91ed-ee424b92adae",
   "metadata": {},
   "source": [
    "> Guru is a sparkling energy water, Arti is a brand of sparkling water. Volume (ml) is a distinct predictor of this class."
   ]
  },
  {
   "cell_type": "markdown",
   "id": "e7bc9dbd-361a-4940-8889-806967442a38",
   "metadata": {},
   "source": [
    "---"
   ]
  },
  {
   "cell_type": "markdown",
   "id": "3e6dc4dd-7a2a-4afd-8156-c6b239f388e4",
   "metadata": {},
   "source": [
    "#### ADASYN"
   ]
  },
  {
   "cell_type": "code",
   "execution_count": 104,
   "id": "a12f0a21-3b69-45f5-a9d1-b96beff15e68",
   "metadata": {
    "tags": []
   },
   "outputs": [],
   "source": [
    "pipe5 = imb_pipeline(\n",
    "    ct2,\n",
    "    ADASYN(n_jobs=-1, random_state=42),\n",
    "    LogisticRegression(max_iter=10_000)\n",
    ")"
   ]
  },
  {
   "cell_type": "code",
   "execution_count": 105,
   "id": "d48b5e35-029d-44da-aa49-74627b55d111",
   "metadata": {},
   "outputs": [],
   "source": [
    "gs3 = GridSearchCV(\n",
    "    pipe5, \n",
    "    {'logisticregression__C': [.1,1,10]}, \n",
    "    n_jobs=-1,\n",
    "    scoring='balanced_accuracy'\n",
    ")"
   ]
  },
  {
   "cell_type": "code",
   "execution_count": 106,
   "id": "aefad159-6604-470a-be3e-65b17a230f44",
   "metadata": {},
   "outputs": [
    {
     "name": "stdout",
     "output_type": "stream",
     "text": [
      "1.0 0.8574683070519625\n",
      "{'logisticregression__C': 10}\n"
     ]
    }
   ],
   "source": [
    "gs3.fit(X_train, y_train)\n",
    "print(gs3.score(X_train, y_train), gs3.score(X_test, y_test))\n",
    "print(gs3.best_params_)"
   ]
  },
  {
   "cell_type": "code",
   "execution_count": 108,
   "id": "3bded7e9-8480-401a-8550-70ba224ac5b2",
   "metadata": {},
   "outputs": [
    {
     "data": {
      "image/png": "[encoded data removed]",
      "text/plain": [
       "<Figure size 720x720 with 2 Axes>"
      ]
     },
     "metadata": {
      "needs_background": "light"
     },
     "output_type": "display_data"
    }
   ],
   "source": [
    "fig, ax = plt.subplots(figsize=(10, 10))\n",
    "ConfusionMatrixDisplay.from_estimator(gs3, X_test, y_test, normalize='pred', ax=ax)\n",
    "plt.title('ADASYN with imblearn');"
   ]
  },
  {
   "cell_type": "markdown",
   "id": "328b898e-2743-4f04-a08d-7d1799386ff7",
   "metadata": {},
   "source": [
    "> Not much of a difference."
   ]
  },
  {
   "cell_type": "markdown",
   "id": "d9f48ccc-4a9f-4016-95d3-0c7bf326d48c",
   "metadata": {},
   "source": [
    "#### Overweight Minority Class"
   ]
  },
  {
   "cell_type": "code",
   "execution_count": 109,
   "id": "23d189b1-20b7-43c5-888f-e05d797bf05b",
   "metadata": {},
   "outputs": [],
   "source": [
    "pipe6 = make_pipeline(ct2, LogisticRegression(max_iter=10_000, class_weight='balanced'))"
   ]
  },
  {
   "cell_type": "code",
   "execution_count": 112,
   "id": "c80f3bdf-419b-4d6b-8651-d659b6c95760",
   "metadata": {},
   "outputs": [
    {
     "data": {
      "text/plain": [
       "0.8662939091744183"
      ]
     },
     "execution_count": 112,
     "metadata": {},
     "output_type": "execute_result"
    }
   ],
   "source": [
    "pipe6.fit(X_train, y_train)\n",
    "balanced_accuracy_score(y_test, pipe6.predict(X_test))"
   ]
  },
  {
   "cell_type": "code",
   "execution_count": 113,
   "id": "4e06d5bf-99df-4478-9b3f-6ae5f41e9873",
   "metadata": {},
   "outputs": [
    {
     "data": {
      "image/png": "[encoded data removed]",
      "text/plain": [
       "<Figure size 720x720 with 2 Axes>"
      ]
     },
     "metadata": {
      "needs_background": "light"
     },
     "output_type": "display_data"
    }
   ],
   "source": [
    "fig, ax = plt.subplots(figsize=(10, 10))\n",
    "ConfusionMatrixDisplay.from_estimator(pipe6, X_test, y_test, normalize='pred', ax=ax)\n",
    "plt.title('Overweight Minority Class');"
   ]
  },
  {
   "cell_type": "markdown",
   "id": "8d500331-432d-4f65-80b0-a625e13abdd5",
   "metadata": {},
   "source": [
    "> Not much of an improvement over the accuracy of the Logistic Regression model without using imblearn."
   ]
  },
  {
   "cell_type": "markdown",
   "id": "3e198cd5-f5ad-4ecc-a9e5-7d51d229e3b8",
   "metadata": {},
   "source": [
    "## Conclusion"
   ]
  },
  {
   "cell_type": "markdown",
   "id": "4966f62b-6b5b-43fe-aacb-78f5f8566a0d",
   "metadata": {},
   "source": [
    "The best predictive model that was achieved during this hackathon was an imlearn model with Logistic Regression and SMOTE, as this dataset was fairly imbalanced. It also used Count Vectorizer for the 'drink' column, with stop words including the most common words in each type class, and standard scaler on the numerical features. This model increased it's correct predictions on the minority class, Water. It wound up with a balanced accuracy score on the test set of 0.86. This is an improvement over the baseline accuracy of 0.36.\n",
    "\n",
    "With this best model, it was really interesting to see the coefficients that came out of the model for each class and how they change from the EDA process. Some of the coefficient words that came up from the drink name were ones that weren't prevalent at all during EDA as they were so few, but working with SMOTE allowed them to be increased and thus properly scored alongside the other prevalent words. I also thought it was interesting how caffeine content was the strongest predictor of Energy Shots, and by a long shot too. It was 114 times more likely to predict Energy Shots, 25 times more likely to predict Energy Drinks, and 65 times more likely to predict Coffee. It wasn't in the top 5 for Soft Drinks, Tea, or Water.\n",
    "\n",
    "For future steps, I'd like to explore other model types as well to see if that score can improve. For this hackathon I only focused on Logistic Regression with many different types of parameters and features. "
   ]
  }
 ],
 "metadata": {
  "kernelspec": {
   "display_name": "Python 3 (ipykernel)",
   "language": "python",
   "name": "python3"
  },
  "language_info": {
   "codemirror_mode": {
    "name": "ipython",
    "version": 3
   },
   "file_extension": ".py",
   "mimetype": "text/x-python",
   "name": "python",
   "nbconvert_exporter": "python",
   "pygments_lexer": "ipython3",
   "version": "3.9.7"
  }
 },
 "nbformat": 4,
 "nbformat_minor": 5
}
