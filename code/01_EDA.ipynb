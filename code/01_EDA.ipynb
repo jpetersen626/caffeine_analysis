{
 "cells": [
  {
   "cell_type": "markdown",
   "id": "1bb01d97-e3a2-4fd6-a6a2-3ea1fcb2e97f",
   "metadata": {},
   "source": [
    "# Hackathon Project 🚀"
   ]
  },
  {
   "cell_type": "markdown",
   "id": "fd0760e7-405a-46d0-92a6-6c2e2ce245b2",
   "metadata": {},
   "source": [
    "---"
   ]
  },
  {
   "cell_type": "markdown",
   "id": "c54c29cf-aee3-4604-b842-3dddd7205ef6",
   "metadata": {},
   "source": [
    "## Problem Statement"
   ]
  },
  {
   "cell_type": "markdown",
   "id": "054ae696-b704-4681-8534-8f534a087991",
   "metadata": {},
   "source": [
    "Can we predict the type of drink based on the attribute of the drink? Since the data is imbalanced, I will be scoring based on the balanced accuracy score."
   ]
  },
  {
   "cell_type": "markdown",
   "id": "dc7bc958-06f9-4eac-ae6e-a7004d10cfab",
   "metadata": {},
   "source": [
    "---"
   ]
  },
  {
   "cell_type": "markdown",
   "id": "0cc12148-eb1a-4728-a5e8-fcc14f0e7eab",
   "metadata": {},
   "source": [
    "## EDA"
   ]
  },
  {
   "cell_type": "code",
   "execution_count": 2,
   "id": "85898e6b-cbce-426f-94a0-4a3525638653",
   "metadata": {},
   "outputs": [],
   "source": [
    "import pandas as pd\n",
    "import numpy as np\n",
    "import matplotlib.pyplot as plt\n",
    "import seaborn as sns\n",
    "from sklearn.feature_extraction.text import CountVectorizer"
   ]
  },
  {
   "cell_type": "code",
   "execution_count": 3,
   "id": "284412e3-6a20-491e-a840-5ba06290e908",
   "metadata": {},
   "outputs": [],
   "source": [
    "data = pd.read_csv('../data/caffeine.csv')"
   ]
  },
  {
   "cell_type": "code",
   "execution_count": 10,
   "id": "a89e3682-5f98-4881-bb10-e2a8c24130f7",
   "metadata": {},
   "outputs": [
    {
     "name": "stdout",
     "output_type": "stream",
     "text": [
      "<class 'pandas.core.frame.DataFrame'>\n",
      "RangeIndex: 610 entries, 0 to 609\n",
      "Data columns (total 5 columns):\n",
      " #   Column         Non-Null Count  Dtype  \n",
      "---  ------         --------------  -----  \n",
      " 0   drink          610 non-null    object \n",
      " 1   Volume (ml)    610 non-null    float64\n",
      " 2   Calories       610 non-null    int64  \n",
      " 3   Caffeine (mg)  610 non-null    int64  \n",
      " 4   type           610 non-null    object \n",
      "dtypes: float64(1), int64(2), object(2)\n",
      "memory usage: 24.0+ KB\n"
     ]
    }
   ],
   "source": [
    "data.info()"
   ]
  },
  {
   "cell_type": "code",
   "execution_count": 11,
   "id": "27e97267-8b4c-4717-b795-a80a858d5781",
   "metadata": {},
   "outputs": [
    {
     "data": {
      "text/html": [
       "<div>\n",
       "<style scoped>\n",
       "    .dataframe tbody tr th:only-of-type {\n",
       "        vertical-align: middle;\n",
       "    }\n",
       "\n",
       "    .dataframe tbody tr th {\n",
       "        vertical-align: top;\n",
       "    }\n",
       "\n",
       "    .dataframe thead th {\n",
       "        text-align: right;\n",
       "    }\n",
       "</style>\n",
       "<table border=\"1\" class=\"dataframe\">\n",
       "  <thead>\n",
       "    <tr style=\"text-align: right;\">\n",
       "      <th></th>\n",
       "      <th>Volume (ml)</th>\n",
       "      <th>Calories</th>\n",
       "      <th>Caffeine (mg)</th>\n",
       "    </tr>\n",
       "  </thead>\n",
       "  <tbody>\n",
       "    <tr>\n",
       "      <th>count</th>\n",
       "      <td>610.000000</td>\n",
       "      <td>610.000000</td>\n",
       "      <td>610.000000</td>\n",
       "    </tr>\n",
       "    <tr>\n",
       "      <th>mean</th>\n",
       "      <td>346.543630</td>\n",
       "      <td>75.527869</td>\n",
       "      <td>134.693443</td>\n",
       "    </tr>\n",
       "    <tr>\n",
       "      <th>std</th>\n",
       "      <td>143.747738</td>\n",
       "      <td>94.799919</td>\n",
       "      <td>155.362861</td>\n",
       "    </tr>\n",
       "    <tr>\n",
       "      <th>min</th>\n",
       "      <td>7.393375</td>\n",
       "      <td>0.000000</td>\n",
       "      <td>0.000000</td>\n",
       "    </tr>\n",
       "    <tr>\n",
       "      <th>25%</th>\n",
       "      <td>236.588000</td>\n",
       "      <td>0.000000</td>\n",
       "      <td>50.000000</td>\n",
       "    </tr>\n",
       "    <tr>\n",
       "      <th>50%</th>\n",
       "      <td>354.882000</td>\n",
       "      <td>25.000000</td>\n",
       "      <td>100.000000</td>\n",
       "    </tr>\n",
       "    <tr>\n",
       "      <th>75%</th>\n",
       "      <td>473.176000</td>\n",
       "      <td>140.000000</td>\n",
       "      <td>160.000000</td>\n",
       "    </tr>\n",
       "    <tr>\n",
       "      <th>max</th>\n",
       "      <td>1419.528000</td>\n",
       "      <td>830.000000</td>\n",
       "      <td>1555.000000</td>\n",
       "    </tr>\n",
       "  </tbody>\n",
       "</table>\n",
       "</div>"
      ],
      "text/plain": [
       "       Volume (ml)    Calories  Caffeine (mg)\n",
       "count   610.000000  610.000000     610.000000\n",
       "mean    346.543630   75.527869     134.693443\n",
       "std     143.747738   94.799919     155.362861\n",
       "min       7.393375    0.000000       0.000000\n",
       "25%     236.588000    0.000000      50.000000\n",
       "50%     354.882000   25.000000     100.000000\n",
       "75%     473.176000  140.000000     160.000000\n",
       "max    1419.528000  830.000000    1555.000000"
      ]
     },
     "execution_count": 11,
     "metadata": {},
     "output_type": "execute_result"
    }
   ],
   "source": [
    "data.describe()"
   ]
  },
  {
   "cell_type": "markdown",
   "id": "7f96fd3f-dc19-4122-ba01-adb3d47cb5d2",
   "metadata": {},
   "source": [
    "> Adding 'oz' column to compare volume easier"
   ]
  },
  {
   "cell_type": "code",
   "execution_count": 128,
   "id": "3357c381-ef4a-43a2-8b32-66161c4adc14",
   "metadata": {},
   "outputs": [],
   "source": [
    "data['Volume (oz)'] = data['Volume (ml)'] * 0.033814"
   ]
  },
  {
   "cell_type": "code",
   "execution_count": 160,
   "id": "f7e35554-2d51-4ec5-a4bb-d7d359491708",
   "metadata": {},
   "outputs": [
    {
     "name": "stdout",
     "output_type": "stream",
     "text": [
      "<class 'pandas.core.frame.DataFrame'>\n",
      "RangeIndex: 610 entries, 0 to 609\n",
      "Data columns (total 6 columns):\n",
      " #   Column         Non-Null Count  Dtype  \n",
      "---  ------         --------------  -----  \n",
      " 0   drink          610 non-null    object \n",
      " 1   Volume (ml)    610 non-null    float64\n",
      " 2   Calories       610 non-null    int64  \n",
      " 3   Caffeine (mg)  610 non-null    int64  \n",
      " 4   type           610 non-null    object \n",
      " 5   Volume (oz)    610 non-null    float64\n",
      "dtypes: float64(2), int64(2), object(2)\n",
      "memory usage: 28.7+ KB\n"
     ]
    }
   ],
   "source": [
    "data.info()"
   ]
  },
  {
   "cell_type": "code",
   "execution_count": 18,
   "id": "4599318a-9102-408d-a79a-726080f04248",
   "metadata": {},
   "outputs": [
    {
     "data": {
      "text/plain": [
       "Energy Drinks    219\n",
       "Coffee           173\n",
       "Soft Drinks       90\n",
       "Tea               66\n",
       "Energy Shots      36\n",
       "Water             26\n",
       "Name: type, dtype: int64"
      ]
     },
     "execution_count": 18,
     "metadata": {},
     "output_type": "execute_result"
    }
   ],
   "source": [
    "data['type'].value_counts()"
   ]
  },
  {
   "cell_type": "markdown",
   "id": "8852cc69-d887-4ded-a592-d1cccd6f639b",
   "metadata": {},
   "source": [
    "### Exploring the types of beverages that are in the categories"
   ]
  },
  {
   "cell_type": "markdown",
   "id": "f426d863-bae9-4991-b03a-ed8a6f95f387",
   "metadata": {},
   "source": [
    "#### Water"
   ]
  },
  {
   "cell_type": "code",
   "execution_count": 131,
   "id": "be0afbe4-ed66-49a5-b6f0-c7068ba234ef",
   "metadata": {},
   "outputs": [
    {
     "data": {
      "text/html": [
       "<div>\n",
       "<style scoped>\n",
       "    .dataframe tbody tr th:only-of-type {\n",
       "        vertical-align: middle;\n",
       "    }\n",
       "\n",
       "    .dataframe tbody tr th {\n",
       "        vertical-align: top;\n",
       "    }\n",
       "\n",
       "    .dataframe thead th {\n",
       "        text-align: right;\n",
       "    }\n",
       "</style>\n",
       "<table border=\"1\" class=\"dataframe\">\n",
       "  <thead>\n",
       "    <tr style=\"text-align: right;\">\n",
       "      <th></th>\n",
       "      <th>drink</th>\n",
       "      <th>Volume (ml)</th>\n",
       "      <th>Calories</th>\n",
       "      <th>Caffeine (mg)</th>\n",
       "      <th>type</th>\n",
       "      <th>Volume (oz)</th>\n",
       "    </tr>\n",
       "  </thead>\n",
       "  <tbody>\n",
       "    <tr>\n",
       "      <th>584</th>\n",
       "      <td>Perrier Energize</td>\n",
       "      <td>250.19181</td>\n",
       "      <td>35</td>\n",
       "      <td>99</td>\n",
       "      <td>Water</td>\n",
       "      <td>8.459986</td>\n",
       "    </tr>\n",
       "    <tr>\n",
       "      <th>585</th>\n",
       "      <td>3 Water</td>\n",
       "      <td>499.79215</td>\n",
       "      <td>0</td>\n",
       "      <td>50</td>\n",
       "      <td>Water</td>\n",
       "      <td>16.899972</td>\n",
       "    </tr>\n",
       "    <tr>\n",
       "      <th>586</th>\n",
       "      <td>Heroec Energy Water</td>\n",
       "      <td>499.79215</td>\n",
       "      <td>0</td>\n",
       "      <td>60</td>\n",
       "      <td>Water</td>\n",
       "      <td>16.899972</td>\n",
       "    </tr>\n",
       "    <tr>\n",
       "      <th>587</th>\n",
       "      <td>Caribou BOUsted Sparkling Water</td>\n",
       "      <td>340.09525</td>\n",
       "      <td>0</td>\n",
       "      <td>75</td>\n",
       "      <td>Water</td>\n",
       "      <td>11.499981</td>\n",
       "    </tr>\n",
       "    <tr>\n",
       "      <th>588</th>\n",
       "      <td>Phocus Sparkling Water</td>\n",
       "      <td>340.09525</td>\n",
       "      <td>0</td>\n",
       "      <td>75</td>\n",
       "      <td>Water</td>\n",
       "      <td>11.499981</td>\n",
       "    </tr>\n",
       "  </tbody>\n",
       "</table>\n",
       "</div>"
      ],
      "text/plain": [
       "                               drink  Volume (ml)  Calories  Caffeine (mg)  \\\n",
       "584                 Perrier Energize    250.19181        35             99   \n",
       "585                          3 Water    499.79215         0             50   \n",
       "586              Heroec Energy Water    499.79215         0             60   \n",
       "587  Caribou BOUsted Sparkling Water    340.09525         0             75   \n",
       "588           Phocus Sparkling Water    340.09525         0             75   \n",
       "\n",
       "      type  Volume (oz)  \n",
       "584  Water     8.459986  \n",
       "585  Water    16.899972  \n",
       "586  Water    16.899972  \n",
       "587  Water    11.499981  \n",
       "588  Water    11.499981  "
      ]
     },
     "execution_count": 131,
     "metadata": {},
     "output_type": "execute_result"
    }
   ],
   "source": [
    "water = data[data['type']=='Water']\n",
    "water.head()"
   ]
  },
  {
   "cell_type": "markdown",
   "id": "ffff6c1d-0e09-4691-afdd-a240a9a77d07",
   "metadata": {},
   "source": [
    "> The top 5 caffeinated 'waters'"
   ]
  },
  {
   "cell_type": "code",
   "execution_count": 132,
   "id": "81177d5f-69fc-41d2-b96a-87a78858589c",
   "metadata": {},
   "outputs": [
    {
     "data": {
      "text/html": [
       "<div>\n",
       "<style scoped>\n",
       "    .dataframe tbody tr th:only-of-type {\n",
       "        vertical-align: middle;\n",
       "    }\n",
       "\n",
       "    .dataframe tbody tr th {\n",
       "        vertical-align: top;\n",
       "    }\n",
       "\n",
       "    .dataframe thead th {\n",
       "        text-align: right;\n",
       "    }\n",
       "</style>\n",
       "<table border=\"1\" class=\"dataframe\">\n",
       "  <thead>\n",
       "    <tr style=\"text-align: right;\">\n",
       "      <th></th>\n",
       "      <th>drink</th>\n",
       "      <th>Volume (ml)</th>\n",
       "      <th>Calories</th>\n",
       "      <th>Caffeine (mg)</th>\n",
       "      <th>type</th>\n",
       "      <th>Volume (oz)</th>\n",
       "    </tr>\n",
       "  </thead>\n",
       "  <tbody>\n",
       "    <tr>\n",
       "      <th>598</th>\n",
       "      <td>Arti Sparkling Water</td>\n",
       "      <td>354.88200</td>\n",
       "      <td>0</td>\n",
       "      <td>120</td>\n",
       "      <td>Water</td>\n",
       "      <td>11.999980</td>\n",
       "    </tr>\n",
       "    <tr>\n",
       "      <th>607</th>\n",
       "      <td>Yerbae Sparkling Water</td>\n",
       "      <td>354.88200</td>\n",
       "      <td>0</td>\n",
       "      <td>100</td>\n",
       "      <td>Water</td>\n",
       "      <td>11.999980</td>\n",
       "    </tr>\n",
       "    <tr>\n",
       "      <th>602</th>\n",
       "      <td>GURU Sparkling Energy Water</td>\n",
       "      <td>354.88200</td>\n",
       "      <td>0</td>\n",
       "      <td>100</td>\n",
       "      <td>Water</td>\n",
       "      <td>11.999980</td>\n",
       "    </tr>\n",
       "    <tr>\n",
       "      <th>584</th>\n",
       "      <td>Perrier Energize</td>\n",
       "      <td>250.19181</td>\n",
       "      <td>35</td>\n",
       "      <td>99</td>\n",
       "      <td>Water</td>\n",
       "      <td>8.459986</td>\n",
       "    </tr>\n",
       "    <tr>\n",
       "      <th>587</th>\n",
       "      <td>Caribou BOUsted Sparkling Water</td>\n",
       "      <td>340.09525</td>\n",
       "      <td>0</td>\n",
       "      <td>75</td>\n",
       "      <td>Water</td>\n",
       "      <td>11.499981</td>\n",
       "    </tr>\n",
       "  </tbody>\n",
       "</table>\n",
       "</div>"
      ],
      "text/plain": [
       "                               drink  Volume (ml)  Calories  Caffeine (mg)  \\\n",
       "598             Arti Sparkling Water    354.88200         0            120   \n",
       "607           Yerbae Sparkling Water    354.88200         0            100   \n",
       "602      GURU Sparkling Energy Water    354.88200         0            100   \n",
       "584                 Perrier Energize    250.19181        35             99   \n",
       "587  Caribou BOUsted Sparkling Water    340.09525         0             75   \n",
       "\n",
       "      type  Volume (oz)  \n",
       "598  Water    11.999980  \n",
       "607  Water    11.999980  \n",
       "602  Water    11.999980  \n",
       "584  Water     8.459986  \n",
       "587  Water    11.499981  "
      ]
     },
     "execution_count": 132,
     "metadata": {},
     "output_type": "execute_result"
    }
   ],
   "source": [
    "water.sort_values(by='Caffeine (mg)', ascending=False).head()"
   ]
  },
  {
   "cell_type": "markdown",
   "id": "3db060c8-5076-4d9c-a751-c20e16a1f79a",
   "metadata": {},
   "source": [
    "> The top 5 high calorie 'waters'"
   ]
  },
  {
   "cell_type": "code",
   "execution_count": 133,
   "id": "9d4922fd-3068-400c-b12a-0773eafe97e4",
   "metadata": {},
   "outputs": [
    {
     "data": {
      "text/html": [
       "<div>\n",
       "<style scoped>\n",
       "    .dataframe tbody tr th:only-of-type {\n",
       "        vertical-align: middle;\n",
       "    }\n",
       "\n",
       "    .dataframe tbody tr th {\n",
       "        vertical-align: top;\n",
       "    }\n",
       "\n",
       "    .dataframe thead th {\n",
       "        text-align: right;\n",
       "    }\n",
       "</style>\n",
       "<table border=\"1\" class=\"dataframe\">\n",
       "  <thead>\n",
       "    <tr style=\"text-align: right;\">\n",
       "      <th></th>\n",
       "      <th>drink</th>\n",
       "      <th>Volume (ml)</th>\n",
       "      <th>Calories</th>\n",
       "      <th>Caffeine (mg)</th>\n",
       "      <th>type</th>\n",
       "      <th>Volume (oz)</th>\n",
       "    </tr>\n",
       "  </thead>\n",
       "  <tbody>\n",
       "    <tr>\n",
       "      <th>608</th>\n",
       "      <td>Tonic Water</td>\n",
       "      <td>295.73500</td>\n",
       "      <td>110</td>\n",
       "      <td>0</td>\n",
       "      <td>Water</td>\n",
       "      <td>9.999983</td>\n",
       "    </tr>\n",
       "    <tr>\n",
       "      <th>591</th>\n",
       "      <td>VitaminWater Energy</td>\n",
       "      <td>591.47000</td>\n",
       "      <td>100</td>\n",
       "      <td>50</td>\n",
       "      <td>Water</td>\n",
       "      <td>19.999967</td>\n",
       "    </tr>\n",
       "    <tr>\n",
       "      <th>584</th>\n",
       "      <td>Perrier Energize</td>\n",
       "      <td>250.19181</td>\n",
       "      <td>35</td>\n",
       "      <td>99</td>\n",
       "      <td>Water</td>\n",
       "      <td>8.459986</td>\n",
       "    </tr>\n",
       "    <tr>\n",
       "      <th>589</th>\n",
       "      <td>Poland Spring Sparkling Energy Water</td>\n",
       "      <td>340.09525</td>\n",
       "      <td>35</td>\n",
       "      <td>75</td>\n",
       "      <td>Water</td>\n",
       "      <td>11.499981</td>\n",
       "    </tr>\n",
       "    <tr>\n",
       "      <th>594</th>\n",
       "      <td>Polar Frost Plus Energy</td>\n",
       "      <td>502.74950</td>\n",
       "      <td>10</td>\n",
       "      <td>67</td>\n",
       "      <td>Water</td>\n",
       "      <td>16.999972</td>\n",
       "    </tr>\n",
       "  </tbody>\n",
       "</table>\n",
       "</div>"
      ],
      "text/plain": [
       "                                    drink  Volume (ml)  Calories  \\\n",
       "608                           Tonic Water    295.73500       110   \n",
       "591                   VitaminWater Energy    591.47000       100   \n",
       "584                      Perrier Energize    250.19181        35   \n",
       "589  Poland Spring Sparkling Energy Water    340.09525        35   \n",
       "594               Polar Frost Plus Energy    502.74950        10   \n",
       "\n",
       "     Caffeine (mg)   type  Volume (oz)  \n",
       "608              0  Water     9.999983  \n",
       "591             50  Water    19.999967  \n",
       "584             99  Water     8.459986  \n",
       "589             75  Water    11.499981  \n",
       "594             67  Water    16.999972  "
      ]
     },
     "execution_count": 133,
     "metadata": {},
     "output_type": "execute_result"
    }
   ],
   "source": [
    "water.sort_values(by='Calories', ascending=False).head()"
   ]
  },
  {
   "cell_type": "markdown",
   "id": "003df1f1-85ad-4b87-ba8b-97dbd98b2a72",
   "metadata": {},
   "source": [
    "#### Energy Shots"
   ]
  },
  {
   "cell_type": "code",
   "execution_count": 134,
   "id": "d0feaa91-3e90-4089-aab7-eb02ee4581f3",
   "metadata": {},
   "outputs": [
    {
     "data": {
      "text/html": [
       "<div>\n",
       "<style scoped>\n",
       "    .dataframe tbody tr th:only-of-type {\n",
       "        vertical-align: middle;\n",
       "    }\n",
       "\n",
       "    .dataframe tbody tr th {\n",
       "        vertical-align: top;\n",
       "    }\n",
       "\n",
       "    .dataframe thead th {\n",
       "        text-align: right;\n",
       "    }\n",
       "</style>\n",
       "<table border=\"1\" class=\"dataframe\">\n",
       "  <thead>\n",
       "    <tr style=\"text-align: right;\">\n",
       "      <th></th>\n",
       "      <th>drink</th>\n",
       "      <th>Volume (ml)</th>\n",
       "      <th>Calories</th>\n",
       "      <th>Caffeine (mg)</th>\n",
       "      <th>type</th>\n",
       "      <th>Volume (oz)</th>\n",
       "    </tr>\n",
       "  </thead>\n",
       "  <tbody>\n",
       "    <tr>\n",
       "      <th>392</th>\n",
       "      <td>Spike Energy Double Shot</td>\n",
       "      <td>125.983110</td>\n",
       "      <td>0</td>\n",
       "      <td>350</td>\n",
       "      <td>Energy Shots</td>\n",
       "      <td>4.259993</td>\n",
       "    </tr>\n",
       "    <tr>\n",
       "      <th>393</th>\n",
       "      <td>Zombie Blood Energy Potion</td>\n",
       "      <td>100.549900</td>\n",
       "      <td>25</td>\n",
       "      <td>80</td>\n",
       "      <td>Energy Shots</td>\n",
       "      <td>3.399994</td>\n",
       "    </tr>\n",
       "    <tr>\n",
       "      <th>394</th>\n",
       "      <td>Proper Wild Energy Shot</td>\n",
       "      <td>73.933750</td>\n",
       "      <td>25</td>\n",
       "      <td>180</td>\n",
       "      <td>Energy Shots</td>\n",
       "      <td>2.499996</td>\n",
       "    </tr>\n",
       "    <tr>\n",
       "      <th>395</th>\n",
       "      <td>Redline Max 300</td>\n",
       "      <td>73.933750</td>\n",
       "      <td>0</td>\n",
       "      <td>300</td>\n",
       "      <td>Energy Shots</td>\n",
       "      <td>2.499996</td>\n",
       "    </tr>\n",
       "    <tr>\n",
       "      <th>396</th>\n",
       "      <td>5 Hour Energy</td>\n",
       "      <td>57.076855</td>\n",
       "      <td>4</td>\n",
       "      <td>200</td>\n",
       "      <td>Energy Shots</td>\n",
       "      <td>1.929997</td>\n",
       "    </tr>\n",
       "  </tbody>\n",
       "</table>\n",
       "</div>"
      ],
      "text/plain": [
       "                          drink  Volume (ml)  Calories  Caffeine (mg)  \\\n",
       "392    Spike Energy Double Shot   125.983110         0            350   \n",
       "393  Zombie Blood Energy Potion   100.549900        25             80   \n",
       "394     Proper Wild Energy Shot    73.933750        25            180   \n",
       "395             Redline Max 300    73.933750         0            300   \n",
       "396               5 Hour Energy    57.076855         4            200   \n",
       "\n",
       "             type  Volume (oz)  \n",
       "392  Energy Shots     4.259993  \n",
       "393  Energy Shots     3.399994  \n",
       "394  Energy Shots     2.499996  \n",
       "395  Energy Shots     2.499996  \n",
       "396  Energy Shots     1.929997  "
      ]
     },
     "execution_count": 134,
     "metadata": {},
     "output_type": "execute_result"
    }
   ],
   "source": [
    "energy_shots = data[data['type']=='Energy Shots']\n",
    "energy_shots.head()"
   ]
  },
  {
   "cell_type": "markdown",
   "id": "4f554c39-04f2-4379-a764-297f12391b10",
   "metadata": {},
   "source": [
    "> The top 5 caffeinated 'energy shots'"
   ]
  },
  {
   "cell_type": "code",
   "execution_count": 135,
   "id": "39e7b40e-85df-4335-a1d1-d58c9e793c2e",
   "metadata": {},
   "outputs": [
    {
     "data": {
      "text/html": [
       "<div>\n",
       "<style scoped>\n",
       "    .dataframe tbody tr th:only-of-type {\n",
       "        vertical-align: middle;\n",
       "    }\n",
       "\n",
       "    .dataframe tbody tr th {\n",
       "        vertical-align: top;\n",
       "    }\n",
       "\n",
       "    .dataframe thead th {\n",
       "        text-align: right;\n",
       "    }\n",
       "</style>\n",
       "<table border=\"1\" class=\"dataframe\">\n",
       "  <thead>\n",
       "    <tr style=\"text-align: right;\">\n",
       "      <th></th>\n",
       "      <th>drink</th>\n",
       "      <th>Volume (ml)</th>\n",
       "      <th>Calories</th>\n",
       "      <th>Caffeine (mg)</th>\n",
       "      <th>type</th>\n",
       "      <th>Volume (oz)</th>\n",
       "    </tr>\n",
       "  </thead>\n",
       "  <tbody>\n",
       "    <tr>\n",
       "      <th>392</th>\n",
       "      <td>Spike Energy Double Shot</td>\n",
       "      <td>125.98311</td>\n",
       "      <td>0</td>\n",
       "      <td>350</td>\n",
       "      <td>Energy Shots</td>\n",
       "      <td>4.259993</td>\n",
       "    </tr>\n",
       "    <tr>\n",
       "      <th>416</th>\n",
       "      <td>Neu Nootropic Shot</td>\n",
       "      <td>59.14700</td>\n",
       "      <td>0</td>\n",
       "      <td>350</td>\n",
       "      <td>Energy Shots</td>\n",
       "      <td>1.999997</td>\n",
       "    </tr>\n",
       "    <tr>\n",
       "      <th>408</th>\n",
       "      <td>Bang Shot</td>\n",
       "      <td>88.72050</td>\n",
       "      <td>0</td>\n",
       "      <td>300</td>\n",
       "      <td>Energy Shots</td>\n",
       "      <td>2.999995</td>\n",
       "    </tr>\n",
       "    <tr>\n",
       "      <th>395</th>\n",
       "      <td>Redline Max 300</td>\n",
       "      <td>73.93375</td>\n",
       "      <td>0</td>\n",
       "      <td>300</td>\n",
       "      <td>Energy Shots</td>\n",
       "      <td>2.499996</td>\n",
       "    </tr>\n",
       "    <tr>\n",
       "      <th>409</th>\n",
       "      <td>Redline Xtreme Shot</td>\n",
       "      <td>88.72050</td>\n",
       "      <td>5</td>\n",
       "      <td>300</td>\n",
       "      <td>Energy Shots</td>\n",
       "      <td>2.999995</td>\n",
       "    </tr>\n",
       "  </tbody>\n",
       "</table>\n",
       "</div>"
      ],
      "text/plain": [
       "                        drink  Volume (ml)  Calories  Caffeine (mg)  \\\n",
       "392  Spike Energy Double Shot    125.98311         0            350   \n",
       "416        Neu Nootropic Shot     59.14700         0            350   \n",
       "408                 Bang Shot     88.72050         0            300   \n",
       "395           Redline Max 300     73.93375         0            300   \n",
       "409       Redline Xtreme Shot     88.72050         5            300   \n",
       "\n",
       "             type  Volume (oz)  \n",
       "392  Energy Shots     4.259993  \n",
       "416  Energy Shots     1.999997  \n",
       "408  Energy Shots     2.999995  \n",
       "395  Energy Shots     2.499996  \n",
       "409  Energy Shots     2.999995  "
      ]
     },
     "execution_count": 135,
     "metadata": {},
     "output_type": "execute_result"
    }
   ],
   "source": [
    "energy_shots.sort_values(by='Caffeine (mg)', ascending=False).head()"
   ]
  },
  {
   "cell_type": "markdown",
   "id": "f132849c-6f00-4e9e-aa70-cee172f7cbed",
   "metadata": {},
   "source": [
    "> The top 5 high calorie 'energy shots'"
   ]
  },
  {
   "cell_type": "code",
   "execution_count": 136,
   "id": "dda6876d-1c04-4fec-9c1e-0774eef05050",
   "metadata": {},
   "outputs": [
    {
     "data": {
      "text/html": [
       "<div>\n",
       "<style scoped>\n",
       "    .dataframe tbody tr th:only-of-type {\n",
       "        vertical-align: middle;\n",
       "    }\n",
       "\n",
       "    .dataframe tbody tr th {\n",
       "        vertical-align: top;\n",
       "    }\n",
       "\n",
       "    .dataframe thead th {\n",
       "        text-align: right;\n",
       "    }\n",
       "</style>\n",
       "<table border=\"1\" class=\"dataframe\">\n",
       "  <thead>\n",
       "    <tr style=\"text-align: right;\">\n",
       "      <th></th>\n",
       "      <th>drink</th>\n",
       "      <th>Volume (ml)</th>\n",
       "      <th>Calories</th>\n",
       "      <th>Caffeine (mg)</th>\n",
       "      <th>type</th>\n",
       "      <th>Volume (oz)</th>\n",
       "    </tr>\n",
       "  </thead>\n",
       "  <tbody>\n",
       "    <tr>\n",
       "      <th>404</th>\n",
       "      <td>Clif Shot Energy Gel</td>\n",
       "      <td>35.488200</td>\n",
       "      <td>100</td>\n",
       "      <td>100</td>\n",
       "      <td>Energy Shots</td>\n",
       "      <td>1.199998</td>\n",
       "    </tr>\n",
       "    <tr>\n",
       "      <th>412</th>\n",
       "      <td>Balance Active Shot</td>\n",
       "      <td>59.147000</td>\n",
       "      <td>80</td>\n",
       "      <td>100</td>\n",
       "      <td>Energy Shots</td>\n",
       "      <td>1.999997</td>\n",
       "    </tr>\n",
       "    <tr>\n",
       "      <th>413</th>\n",
       "      <td>Balance Energy Shot</td>\n",
       "      <td>59.147000</td>\n",
       "      <td>77</td>\n",
       "      <td>150</td>\n",
       "      <td>Energy Shots</td>\n",
       "      <td>1.999997</td>\n",
       "    </tr>\n",
       "    <tr>\n",
       "      <th>417</th>\n",
       "      <td>Nutramint Smart Serum</td>\n",
       "      <td>59.147000</td>\n",
       "      <td>45</td>\n",
       "      <td>200</td>\n",
       "      <td>Energy Shots</td>\n",
       "      <td>1.999997</td>\n",
       "    </tr>\n",
       "    <tr>\n",
       "      <th>405</th>\n",
       "      <td>Screamin Energy Max Hit</td>\n",
       "      <td>18.039835</td>\n",
       "      <td>40</td>\n",
       "      <td>185</td>\n",
       "      <td>Energy Shots</td>\n",
       "      <td>0.609999</td>\n",
       "    </tr>\n",
       "  </tbody>\n",
       "</table>\n",
       "</div>"
      ],
      "text/plain": [
       "                       drink  Volume (ml)  Calories  Caffeine (mg)  \\\n",
       "404     Clif Shot Energy Gel    35.488200       100            100   \n",
       "412      Balance Active Shot    59.147000        80            100   \n",
       "413      Balance Energy Shot    59.147000        77            150   \n",
       "417    Nutramint Smart Serum    59.147000        45            200   \n",
       "405  Screamin Energy Max Hit    18.039835        40            185   \n",
       "\n",
       "             type  Volume (oz)  \n",
       "404  Energy Shots     1.199998  \n",
       "412  Energy Shots     1.999997  \n",
       "413  Energy Shots     1.999997  \n",
       "417  Energy Shots     1.999997  \n",
       "405  Energy Shots     0.609999  "
      ]
     },
     "execution_count": 136,
     "metadata": {},
     "output_type": "execute_result"
    }
   ],
   "source": [
    "energy_shots.sort_values(by='Calories', ascending=False).head()"
   ]
  },
  {
   "cell_type": "markdown",
   "id": "9ddec555-e9ad-4424-a980-2ca4a57cbef3",
   "metadata": {},
   "source": [
    "#### Tea"
   ]
  },
  {
   "cell_type": "code",
   "execution_count": 137,
   "id": "2c299359-eb3e-4017-a4c0-7ee4e5c9dcc1",
   "metadata": {},
   "outputs": [
    {
     "data": {
      "text/html": [
       "<div>\n",
       "<style scoped>\n",
       "    .dataframe tbody tr th:only-of-type {\n",
       "        vertical-align: middle;\n",
       "    }\n",
       "\n",
       "    .dataframe tbody tr th {\n",
       "        vertical-align: top;\n",
       "    }\n",
       "\n",
       "    .dataframe thead th {\n",
       "        text-align: right;\n",
       "    }\n",
       "</style>\n",
       "<table border=\"1\" class=\"dataframe\">\n",
       "  <thead>\n",
       "    <tr style=\"text-align: right;\">\n",
       "      <th></th>\n",
       "      <th>drink</th>\n",
       "      <th>Volume (ml)</th>\n",
       "      <th>Calories</th>\n",
       "      <th>Caffeine (mg)</th>\n",
       "      <th>type</th>\n",
       "      <th>Volume (oz)</th>\n",
       "    </tr>\n",
       "  </thead>\n",
       "  <tbody>\n",
       "    <tr>\n",
       "      <th>518</th>\n",
       "      <td>PG Tips Black Tea</td>\n",
       "      <td>200.50833</td>\n",
       "      <td>0</td>\n",
       "      <td>50</td>\n",
       "      <td>Tea</td>\n",
       "      <td>6.779989</td>\n",
       "    </tr>\n",
       "    <tr>\n",
       "      <th>519</th>\n",
       "      <td>Sencha Green Tea Shot</td>\n",
       "      <td>189.27040</td>\n",
       "      <td>0</td>\n",
       "      <td>40</td>\n",
       "      <td>Tea</td>\n",
       "      <td>6.399989</td>\n",
       "    </tr>\n",
       "    <tr>\n",
       "      <th>520</th>\n",
       "      <td>Xingtea Iced Green Tea</td>\n",
       "      <td>694.97725</td>\n",
       "      <td>50</td>\n",
       "      <td>110</td>\n",
       "      <td>Tea</td>\n",
       "      <td>23.499961</td>\n",
       "    </tr>\n",
       "    <tr>\n",
       "      <th>521</th>\n",
       "      <td>Gold Peak Tea</td>\n",
       "      <td>547.10975</td>\n",
       "      <td>0</td>\n",
       "      <td>48</td>\n",
       "      <td>Tea</td>\n",
       "      <td>18.499969</td>\n",
       "    </tr>\n",
       "    <tr>\n",
       "      <th>522</th>\n",
       "      <td>Pure Leaf Iced Tea</td>\n",
       "      <td>547.10975</td>\n",
       "      <td>160</td>\n",
       "      <td>69</td>\n",
       "      <td>Tea</td>\n",
       "      <td>18.499969</td>\n",
       "    </tr>\n",
       "  </tbody>\n",
       "</table>\n",
       "</div>"
      ],
      "text/plain": [
       "                      drink  Volume (ml)  Calories  Caffeine (mg) type  \\\n",
       "518       PG Tips Black Tea    200.50833         0             50  Tea   \n",
       "519   Sencha Green Tea Shot    189.27040         0             40  Tea   \n",
       "520  Xingtea Iced Green Tea    694.97725        50            110  Tea   \n",
       "521           Gold Peak Tea    547.10975         0             48  Tea   \n",
       "522      Pure Leaf Iced Tea    547.10975       160             69  Tea   \n",
       "\n",
       "     Volume (oz)  \n",
       "518     6.779989  \n",
       "519     6.399989  \n",
       "520    23.499961  \n",
       "521    18.499969  \n",
       "522    18.499969  "
      ]
     },
     "execution_count": 137,
     "metadata": {},
     "output_type": "execute_result"
    }
   ],
   "source": [
    "tea = data[data['type']=='Tea']\n",
    "tea.head()"
   ]
  },
  {
   "cell_type": "markdown",
   "id": "313a9f07-1a4e-42e5-afc2-d4db8c4aa04d",
   "metadata": {},
   "source": [
    "> The top 5 caffeinated 'teas'"
   ]
  },
  {
   "cell_type": "code",
   "execution_count": 138,
   "id": "bc9c0bfa-b987-4090-ba92-76f4f12c9674",
   "metadata": {},
   "outputs": [
    {
     "data": {
      "text/html": [
       "<div>\n",
       "<style scoped>\n",
       "    .dataframe tbody tr th:only-of-type {\n",
       "        vertical-align: middle;\n",
       "    }\n",
       "\n",
       "    .dataframe tbody tr th {\n",
       "        vertical-align: top;\n",
       "    }\n",
       "\n",
       "    .dataframe thead th {\n",
       "        text-align: right;\n",
       "    }\n",
       "</style>\n",
       "<table border=\"1\" class=\"dataframe\">\n",
       "  <thead>\n",
       "    <tr style=\"text-align: right;\">\n",
       "      <th></th>\n",
       "      <th>drink</th>\n",
       "      <th>Volume (ml)</th>\n",
       "      <th>Calories</th>\n",
       "      <th>Caffeine (mg)</th>\n",
       "      <th>type</th>\n",
       "      <th>Volume (oz)</th>\n",
       "    </tr>\n",
       "  </thead>\n",
       "  <tbody>\n",
       "    <tr>\n",
       "      <th>528</th>\n",
       "      <td>Inko's White Tea Energy</td>\n",
       "      <td>458.38925</td>\n",
       "      <td>100</td>\n",
       "      <td>165</td>\n",
       "      <td>Tea</td>\n",
       "      <td>15.499974</td>\n",
       "    </tr>\n",
       "    <tr>\n",
       "      <th>542</th>\n",
       "      <td>Taiwanese Milk Tea</td>\n",
       "      <td>473.17600</td>\n",
       "      <td>299</td>\n",
       "      <td>151</td>\n",
       "      <td>Tea</td>\n",
       "      <td>15.999973</td>\n",
       "    </tr>\n",
       "    <tr>\n",
       "      <th>581</th>\n",
       "      <td>Zest Highly Caffeinated Tea</td>\n",
       "      <td>236.58800</td>\n",
       "      <td>0</td>\n",
       "      <td>150</td>\n",
       "      <td>Tea</td>\n",
       "      <td>7.999987</td>\n",
       "    </tr>\n",
       "    <tr>\n",
       "      <th>527</th>\n",
       "      <td>Guayaki Canned Yerba Mate</td>\n",
       "      <td>458.38925</td>\n",
       "      <td>120</td>\n",
       "      <td>150</td>\n",
       "      <td>Tea</td>\n",
       "      <td>15.499974</td>\n",
       "    </tr>\n",
       "    <tr>\n",
       "      <th>539</th>\n",
       "      <td>Guayaki Yerba Mate Bottled Tea</td>\n",
       "      <td>473.17600</td>\n",
       "      <td>80</td>\n",
       "      <td>140</td>\n",
       "      <td>Tea</td>\n",
       "      <td>15.999973</td>\n",
       "    </tr>\n",
       "  </tbody>\n",
       "</table>\n",
       "</div>"
      ],
      "text/plain": [
       "                              drink  Volume (ml)  Calories  Caffeine (mg)  \\\n",
       "528         Inko's White Tea Energy    458.38925       100            165   \n",
       "542              Taiwanese Milk Tea    473.17600       299            151   \n",
       "581     Zest Highly Caffeinated Tea    236.58800         0            150   \n",
       "527       Guayaki Canned Yerba Mate    458.38925       120            150   \n",
       "539  Guayaki Yerba Mate Bottled Tea    473.17600        80            140   \n",
       "\n",
       "    type  Volume (oz)  \n",
       "528  Tea    15.499974  \n",
       "542  Tea    15.999973  \n",
       "581  Tea     7.999987  \n",
       "527  Tea    15.499974  \n",
       "539  Tea    15.999973  "
      ]
     },
     "execution_count": 138,
     "metadata": {},
     "output_type": "execute_result"
    }
   ],
   "source": [
    "tea.sort_values(by='Caffeine (mg)', ascending=False).head()"
   ]
  },
  {
   "cell_type": "markdown",
   "id": "e757af52-7a9b-4132-ac02-64af6711eb12",
   "metadata": {},
   "source": [
    "> The top 5 high calorie 'teas'"
   ]
  },
  {
   "cell_type": "code",
   "execution_count": 139,
   "id": "ed546066-f353-4c32-b1f8-7d032f0c5c86",
   "metadata": {},
   "outputs": [
    {
     "data": {
      "text/html": [
       "<div>\n",
       "<style scoped>\n",
       "    .dataframe tbody tr th:only-of-type {\n",
       "        vertical-align: middle;\n",
       "    }\n",
       "\n",
       "    .dataframe tbody tr th {\n",
       "        vertical-align: top;\n",
       "    }\n",
       "\n",
       "    .dataframe thead th {\n",
       "        text-align: right;\n",
       "    }\n",
       "</style>\n",
       "<table border=\"1\" class=\"dataframe\">\n",
       "  <thead>\n",
       "    <tr style=\"text-align: right;\">\n",
       "      <th></th>\n",
       "      <th>drink</th>\n",
       "      <th>Volume (ml)</th>\n",
       "      <th>Calories</th>\n",
       "      <th>Caffeine (mg)</th>\n",
       "      <th>type</th>\n",
       "      <th>Volume (oz)</th>\n",
       "    </tr>\n",
       "  </thead>\n",
       "  <tbody>\n",
       "    <tr>\n",
       "      <th>542</th>\n",
       "      <td>Taiwanese Milk Tea</td>\n",
       "      <td>473.176</td>\n",
       "      <td>299</td>\n",
       "      <td>151</td>\n",
       "      <td>Tea</td>\n",
       "      <td>15.999973</td>\n",
       "    </tr>\n",
       "    <tr>\n",
       "      <th>531</th>\n",
       "      <td>Dunkin' Donuts Iced Tea</td>\n",
       "      <td>709.764</td>\n",
       "      <td>230</td>\n",
       "      <td>63</td>\n",
       "      <td>Tea</td>\n",
       "      <td>23.999960</td>\n",
       "    </tr>\n",
       "    <tr>\n",
       "      <th>550</th>\n",
       "      <td>Big Train Spiced Chai</td>\n",
       "      <td>236.588</td>\n",
       "      <td>210</td>\n",
       "      <td>65</td>\n",
       "      <td>Tea</td>\n",
       "      <td>7.999987</td>\n",
       "    </tr>\n",
       "    <tr>\n",
       "      <th>535</th>\n",
       "      <td>SoBe Green Tea</td>\n",
       "      <td>591.470</td>\n",
       "      <td>200</td>\n",
       "      <td>7</td>\n",
       "      <td>Tea</td>\n",
       "      <td>19.999967</td>\n",
       "    </tr>\n",
       "    <tr>\n",
       "      <th>536</th>\n",
       "      <td>Arizona Iced Tea</td>\n",
       "      <td>473.176</td>\n",
       "      <td>190</td>\n",
       "      <td>30</td>\n",
       "      <td>Tea</td>\n",
       "      <td>15.999973</td>\n",
       "    </tr>\n",
       "  </tbody>\n",
       "</table>\n",
       "</div>"
      ],
      "text/plain": [
       "                       drink  Volume (ml)  Calories  Caffeine (mg) type  \\\n",
       "542       Taiwanese Milk Tea      473.176       299            151  Tea   \n",
       "531  Dunkin' Donuts Iced Tea      709.764       230             63  Tea   \n",
       "550    Big Train Spiced Chai      236.588       210             65  Tea   \n",
       "535           SoBe Green Tea      591.470       200              7  Tea   \n",
       "536         Arizona Iced Tea      473.176       190             30  Tea   \n",
       "\n",
       "     Volume (oz)  \n",
       "542    15.999973  \n",
       "531    23.999960  \n",
       "550     7.999987  \n",
       "535    19.999967  \n",
       "536    15.999973  "
      ]
     },
     "execution_count": 139,
     "metadata": {},
     "output_type": "execute_result"
    }
   ],
   "source": [
    "tea.sort_values(by='Calories', ascending=False).head()"
   ]
  },
  {
   "cell_type": "markdown",
   "id": "1cbf35e9-8af0-4359-b7a6-ad04b88a0a53",
   "metadata": {},
   "source": [
    "#### Soft Drinks"
   ]
  },
  {
   "cell_type": "code",
   "execution_count": 140,
   "id": "226cc974-f4dc-48b1-a2c5-52b317758d91",
   "metadata": {},
   "outputs": [
    {
     "data": {
      "text/html": [
       "<div>\n",
       "<style scoped>\n",
       "    .dataframe tbody tr th:only-of-type {\n",
       "        vertical-align: middle;\n",
       "    }\n",
       "\n",
       "    .dataframe tbody tr th {\n",
       "        vertical-align: top;\n",
       "    }\n",
       "\n",
       "    .dataframe thead th {\n",
       "        text-align: right;\n",
       "    }\n",
       "</style>\n",
       "<table border=\"1\" class=\"dataframe\">\n",
       "  <thead>\n",
       "    <tr style=\"text-align: right;\">\n",
       "      <th></th>\n",
       "      <th>drink</th>\n",
       "      <th>Volume (ml)</th>\n",
       "      <th>Calories</th>\n",
       "      <th>Caffeine (mg)</th>\n",
       "      <th>type</th>\n",
       "      <th>Volume (oz)</th>\n",
       "    </tr>\n",
       "  </thead>\n",
       "  <tbody>\n",
       "    <tr>\n",
       "      <th>428</th>\n",
       "      <td>Red Bull Simply Cola</td>\n",
       "      <td>250.19181</td>\n",
       "      <td>0</td>\n",
       "      <td>32</td>\n",
       "      <td>Soft Drinks</td>\n",
       "      <td>8.459986</td>\n",
       "    </tr>\n",
       "    <tr>\n",
       "      <th>429</th>\n",
       "      <td>Afri Cola</td>\n",
       "      <td>330.04026</td>\n",
       "      <td>139</td>\n",
       "      <td>83</td>\n",
       "      <td>Soft Drinks</td>\n",
       "      <td>11.159981</td>\n",
       "    </tr>\n",
       "    <tr>\n",
       "      <th>430</th>\n",
       "      <td>Fritz Kola (EU)</td>\n",
       "      <td>330.04026</td>\n",
       "      <td>135</td>\n",
       "      <td>83</td>\n",
       "      <td>Soft Drinks</td>\n",
       "      <td>11.159981</td>\n",
       "    </tr>\n",
       "    <tr>\n",
       "      <th>431</th>\n",
       "      <td>Pepsi Max (UK)</td>\n",
       "      <td>330.04026</td>\n",
       "      <td>0</td>\n",
       "      <td>43</td>\n",
       "      <td>Soft Drinks</td>\n",
       "      <td>11.159981</td>\n",
       "    </tr>\n",
       "    <tr>\n",
       "      <th>432</th>\n",
       "      <td>Premium Cola (EU)</td>\n",
       "      <td>330.04026</td>\n",
       "      <td>132</td>\n",
       "      <td>83</td>\n",
       "      <td>Soft Drinks</td>\n",
       "      <td>11.159981</td>\n",
       "    </tr>\n",
       "  </tbody>\n",
       "</table>\n",
       "</div>"
      ],
      "text/plain": [
       "                    drink  Volume (ml)  Calories  Caffeine (mg)         type  \\\n",
       "428  Red Bull Simply Cola    250.19181         0             32  Soft Drinks   \n",
       "429             Afri Cola    330.04026       139             83  Soft Drinks   \n",
       "430       Fritz Kola (EU)    330.04026       135             83  Soft Drinks   \n",
       "431        Pepsi Max (UK)    330.04026         0             43  Soft Drinks   \n",
       "432     Premium Cola (EU)    330.04026       132             83  Soft Drinks   \n",
       "\n",
       "     Volume (oz)  \n",
       "428     8.459986  \n",
       "429    11.159981  \n",
       "430    11.159981  \n",
       "431    11.159981  \n",
       "432    11.159981  "
      ]
     },
     "execution_count": 140,
     "metadata": {},
     "output_type": "execute_result"
    }
   ],
   "source": [
    "soft_drinks = data[data['type']=='Soft Drinks']\n",
    "soft_drinks.head()"
   ]
  },
  {
   "cell_type": "markdown",
   "id": "b3efd624-052c-40dd-ad14-2cb2e8f76d03",
   "metadata": {},
   "source": [
    "> The top 5 caffeinated 'soft drinks'"
   ]
  },
  {
   "cell_type": "code",
   "execution_count": 141,
   "id": "7e907709-5eef-4a88-96c8-8d9205250049",
   "metadata": {},
   "outputs": [
    {
     "data": {
      "text/html": [
       "<div>\n",
       "<style scoped>\n",
       "    .dataframe tbody tr th:only-of-type {\n",
       "        vertical-align: middle;\n",
       "    }\n",
       "\n",
       "    .dataframe tbody tr th {\n",
       "        vertical-align: top;\n",
       "    }\n",
       "\n",
       "    .dataframe thead th {\n",
       "        text-align: right;\n",
       "    }\n",
       "</style>\n",
       "<table border=\"1\" class=\"dataframe\">\n",
       "  <thead>\n",
       "    <tr style=\"text-align: right;\">\n",
       "      <th></th>\n",
       "      <th>drink</th>\n",
       "      <th>Volume (ml)</th>\n",
       "      <th>Calories</th>\n",
       "      <th>Caffeine (mg)</th>\n",
       "      <th>type</th>\n",
       "      <th>Volume (oz)</th>\n",
       "    </tr>\n",
       "  </thead>\n",
       "  <tbody>\n",
       "    <tr>\n",
       "      <th>434</th>\n",
       "      <td>Bawls</td>\n",
       "      <td>473.17600</td>\n",
       "      <td>190</td>\n",
       "      <td>102</td>\n",
       "      <td>Soft Drinks</td>\n",
       "      <td>15.999973</td>\n",
       "    </tr>\n",
       "    <tr>\n",
       "      <th>435</th>\n",
       "      <td>Mountain Dew Kickstart</td>\n",
       "      <td>473.17600</td>\n",
       "      <td>80</td>\n",
       "      <td>90</td>\n",
       "      <td>Soft Drinks</td>\n",
       "      <td>15.999973</td>\n",
       "    </tr>\n",
       "    <tr>\n",
       "      <th>430</th>\n",
       "      <td>Fritz Kola (EU)</td>\n",
       "      <td>330.04026</td>\n",
       "      <td>135</td>\n",
       "      <td>83</td>\n",
       "      <td>Soft Drinks</td>\n",
       "      <td>11.159981</td>\n",
       "    </tr>\n",
       "    <tr>\n",
       "      <th>432</th>\n",
       "      <td>Premium Cola (EU)</td>\n",
       "      <td>330.04026</td>\n",
       "      <td>132</td>\n",
       "      <td>83</td>\n",
       "      <td>Soft Drinks</td>\n",
       "      <td>11.159981</td>\n",
       "    </tr>\n",
       "    <tr>\n",
       "      <th>429</th>\n",
       "      <td>Afri Cola</td>\n",
       "      <td>330.04026</td>\n",
       "      <td>139</td>\n",
       "      <td>83</td>\n",
       "      <td>Soft Drinks</td>\n",
       "      <td>11.159981</td>\n",
       "    </tr>\n",
       "  </tbody>\n",
       "</table>\n",
       "</div>"
      ],
      "text/plain": [
       "                      drink  Volume (ml)  Calories  Caffeine (mg)  \\\n",
       "434                   Bawls    473.17600       190            102   \n",
       "435  Mountain Dew Kickstart    473.17600        80             90   \n",
       "430         Fritz Kola (EU)    330.04026       135             83   \n",
       "432       Premium Cola (EU)    330.04026       132             83   \n",
       "429               Afri Cola    330.04026       139             83   \n",
       "\n",
       "            type  Volume (oz)  \n",
       "434  Soft Drinks    15.999973  \n",
       "435  Soft Drinks    15.999973  \n",
       "430  Soft Drinks    11.159981  \n",
       "432  Soft Drinks    11.159981  \n",
       "429  Soft Drinks    11.159981  "
      ]
     },
     "execution_count": 141,
     "metadata": {},
     "output_type": "execute_result"
    }
   ],
   "source": [
    "soft_drinks.sort_values(by='Caffeine (mg)', ascending=False).head()"
   ]
  },
  {
   "cell_type": "markdown",
   "id": "fa98fb87-6f9d-4fe6-a40b-e175cd7def51",
   "metadata": {},
   "source": [
    "> The top 5 high calorie 'soft drinks'"
   ]
  },
  {
   "cell_type": "code",
   "execution_count": 142,
   "id": "089ba85d-a271-4a4d-94c8-a0ad40db2980",
   "metadata": {},
   "outputs": [
    {
     "data": {
      "text/html": [
       "<div>\n",
       "<style scoped>\n",
       "    .dataframe tbody tr th:only-of-type {\n",
       "        vertical-align: middle;\n",
       "    }\n",
       "\n",
       "    .dataframe tbody tr th {\n",
       "        vertical-align: top;\n",
       "    }\n",
       "\n",
       "    .dataframe thead th {\n",
       "        text-align: right;\n",
       "    }\n",
       "</style>\n",
       "<table border=\"1\" class=\"dataframe\">\n",
       "  <thead>\n",
       "    <tr style=\"text-align: right;\">\n",
       "      <th></th>\n",
       "      <th>drink</th>\n",
       "      <th>Volume (ml)</th>\n",
       "      <th>Calories</th>\n",
       "      <th>Caffeine (mg)</th>\n",
       "      <th>type</th>\n",
       "      <th>Volume (oz)</th>\n",
       "    </tr>\n",
       "  </thead>\n",
       "  <tbody>\n",
       "    <tr>\n",
       "      <th>433</th>\n",
       "      <td>Tropicana Twister Soda</td>\n",
       "      <td>591.470</td>\n",
       "      <td>320</td>\n",
       "      <td>0</td>\n",
       "      <td>Soft Drinks</td>\n",
       "      <td>19.999967</td>\n",
       "    </tr>\n",
       "    <tr>\n",
       "      <th>436</th>\n",
       "      <td>Sprecher Cherry Cola</td>\n",
       "      <td>473.176</td>\n",
       "      <td>240</td>\n",
       "      <td>0</td>\n",
       "      <td>Soft Drinks</td>\n",
       "      <td>15.999973</td>\n",
       "    </tr>\n",
       "    <tr>\n",
       "      <th>515</th>\n",
       "      <td>Boost Nutritional Drink</td>\n",
       "      <td>236.588</td>\n",
       "      <td>240</td>\n",
       "      <td>5</td>\n",
       "      <td>Soft Drinks</td>\n",
       "      <td>7.999987</td>\n",
       "    </tr>\n",
       "    <tr>\n",
       "      <th>434</th>\n",
       "      <td>Bawls</td>\n",
       "      <td>473.176</td>\n",
       "      <td>190</td>\n",
       "      <td>102</td>\n",
       "      <td>Soft Drinks</td>\n",
       "      <td>15.999973</td>\n",
       "    </tr>\n",
       "    <tr>\n",
       "      <th>478</th>\n",
       "      <td>Kickapoo Soda: Joy Juice &amp; Fruit Shine</td>\n",
       "      <td>354.882</td>\n",
       "      <td>190</td>\n",
       "      <td>40</td>\n",
       "      <td>Soft Drinks</td>\n",
       "      <td>11.999980</td>\n",
       "    </tr>\n",
       "  </tbody>\n",
       "</table>\n",
       "</div>"
      ],
      "text/plain": [
       "                                      drink  Volume (ml)  Calories  \\\n",
       "433                  Tropicana Twister Soda      591.470       320   \n",
       "436                    Sprecher Cherry Cola      473.176       240   \n",
       "515                 Boost Nutritional Drink      236.588       240   \n",
       "434                                   Bawls      473.176       190   \n",
       "478  Kickapoo Soda: Joy Juice & Fruit Shine      354.882       190   \n",
       "\n",
       "     Caffeine (mg)         type  Volume (oz)  \n",
       "433              0  Soft Drinks    19.999967  \n",
       "436              0  Soft Drinks    15.999973  \n",
       "515              5  Soft Drinks     7.999987  \n",
       "434            102  Soft Drinks    15.999973  \n",
       "478             40  Soft Drinks    11.999980  "
      ]
     },
     "execution_count": 142,
     "metadata": {},
     "output_type": "execute_result"
    }
   ],
   "source": [
    "soft_drinks.sort_values(by='Calories', ascending=False).head()"
   ]
  },
  {
   "cell_type": "markdown",
   "id": "f59c2402-f988-4e1d-a629-36fffac40f82",
   "metadata": {},
   "source": [
    "#### Coffee"
   ]
  },
  {
   "cell_type": "code",
   "execution_count": 143,
   "id": "c1a795b7-845e-49f6-9959-78719a67a3a4",
   "metadata": {},
   "outputs": [
    {
     "data": {
      "text/html": [
       "<div>\n",
       "<style scoped>\n",
       "    .dataframe tbody tr th:only-of-type {\n",
       "        vertical-align: middle;\n",
       "    }\n",
       "\n",
       "    .dataframe tbody tr th {\n",
       "        vertical-align: top;\n",
       "    }\n",
       "\n",
       "    .dataframe thead th {\n",
       "        text-align: right;\n",
       "    }\n",
       "</style>\n",
       "<table border=\"1\" class=\"dataframe\">\n",
       "  <thead>\n",
       "    <tr style=\"text-align: right;\">\n",
       "      <th></th>\n",
       "      <th>drink</th>\n",
       "      <th>Volume (ml)</th>\n",
       "      <th>Calories</th>\n",
       "      <th>Caffeine (mg)</th>\n",
       "      <th>type</th>\n",
       "      <th>Volume (oz)</th>\n",
       "    </tr>\n",
       "  </thead>\n",
       "  <tbody>\n",
       "    <tr>\n",
       "      <th>0</th>\n",
       "      <td>Costa Coffee</td>\n",
       "      <td>256.993715</td>\n",
       "      <td>0</td>\n",
       "      <td>277</td>\n",
       "      <td>Coffee</td>\n",
       "      <td>8.689985</td>\n",
       "    </tr>\n",
       "    <tr>\n",
       "      <th>1</th>\n",
       "      <td>Coffee Friend Brewed Coffee</td>\n",
       "      <td>250.191810</td>\n",
       "      <td>0</td>\n",
       "      <td>145</td>\n",
       "      <td>Coffee</td>\n",
       "      <td>8.459986</td>\n",
       "    </tr>\n",
       "    <tr>\n",
       "      <th>2</th>\n",
       "      <td>Hell Energy Coffee</td>\n",
       "      <td>250.191810</td>\n",
       "      <td>150</td>\n",
       "      <td>100</td>\n",
       "      <td>Coffee</td>\n",
       "      <td>8.459986</td>\n",
       "    </tr>\n",
       "    <tr>\n",
       "      <th>3</th>\n",
       "      <td>Killer Coffee (AU)</td>\n",
       "      <td>250.191810</td>\n",
       "      <td>0</td>\n",
       "      <td>430</td>\n",
       "      <td>Coffee</td>\n",
       "      <td>8.459986</td>\n",
       "    </tr>\n",
       "    <tr>\n",
       "      <th>4</th>\n",
       "      <td>Nescafe Gold</td>\n",
       "      <td>250.191810</td>\n",
       "      <td>0</td>\n",
       "      <td>66</td>\n",
       "      <td>Coffee</td>\n",
       "      <td>8.459986</td>\n",
       "    </tr>\n",
       "  </tbody>\n",
       "</table>\n",
       "</div>"
      ],
      "text/plain": [
       "                         drink  Volume (ml)  Calories  Caffeine (mg)    type  \\\n",
       "0                 Costa Coffee   256.993715         0            277  Coffee   \n",
       "1  Coffee Friend Brewed Coffee   250.191810         0            145  Coffee   \n",
       "2           Hell Energy Coffee   250.191810       150            100  Coffee   \n",
       "3           Killer Coffee (AU)   250.191810         0            430  Coffee   \n",
       "4                 Nescafe Gold   250.191810         0             66  Coffee   \n",
       "\n",
       "   Volume (oz)  \n",
       "0     8.689985  \n",
       "1     8.459986  \n",
       "2     8.459986  \n",
       "3     8.459986  \n",
       "4     8.459986  "
      ]
     },
     "execution_count": 143,
     "metadata": {},
     "output_type": "execute_result"
    }
   ],
   "source": [
    "coffee = data[data['type']=='Coffee']\n",
    "coffee.head()"
   ]
  },
  {
   "cell_type": "markdown",
   "id": "3cacaf23-8d31-4cf3-a7d5-2d0f0a07acba",
   "metadata": {},
   "source": [
    "> The top 5 caffeinated 'coffees'"
   ]
  },
  {
   "cell_type": "code",
   "execution_count": 144,
   "id": "bf84f1a7-edba-49ca-956f-b28179899779",
   "metadata": {},
   "outputs": [
    {
     "data": {
      "text/html": [
       "<div>\n",
       "<style scoped>\n",
       "    .dataframe tbody tr th:only-of-type {\n",
       "        vertical-align: middle;\n",
       "    }\n",
       "\n",
       "    .dataframe tbody tr th {\n",
       "        vertical-align: top;\n",
       "    }\n",
       "\n",
       "    .dataframe thead th {\n",
       "        text-align: right;\n",
       "    }\n",
       "</style>\n",
       "<table border=\"1\" class=\"dataframe\">\n",
       "  <thead>\n",
       "    <tr style=\"text-align: right;\">\n",
       "      <th></th>\n",
       "      <th>drink</th>\n",
       "      <th>Volume (ml)</th>\n",
       "      <th>Calories</th>\n",
       "      <th>Caffeine (mg)</th>\n",
       "      <th>type</th>\n",
       "      <th>Volume (oz)</th>\n",
       "    </tr>\n",
       "  </thead>\n",
       "  <tbody>\n",
       "    <tr>\n",
       "      <th>85</th>\n",
       "      <td>Black Label Brewed Coffee</td>\n",
       "      <td>354.882</td>\n",
       "      <td>0</td>\n",
       "      <td>1555</td>\n",
       "      <td>Coffee</td>\n",
       "      <td>11.99998</td>\n",
       "    </tr>\n",
       "    <tr>\n",
       "      <th>102</th>\n",
       "      <td>Very Strong Coffee</td>\n",
       "      <td>354.882</td>\n",
       "      <td>0</td>\n",
       "      <td>1350</td>\n",
       "      <td>Coffee</td>\n",
       "      <td>11.99998</td>\n",
       "    </tr>\n",
       "    <tr>\n",
       "      <th>92</th>\n",
       "      <td>Devils Brew Extreme Caffeine Coffee</td>\n",
       "      <td>354.882</td>\n",
       "      <td>0</td>\n",
       "      <td>1325</td>\n",
       "      <td>Coffee</td>\n",
       "      <td>11.99998</td>\n",
       "    </tr>\n",
       "    <tr>\n",
       "      <th>101</th>\n",
       "      <td>Taft Coffee (EU)</td>\n",
       "      <td>354.882</td>\n",
       "      <td>0</td>\n",
       "      <td>1182</td>\n",
       "      <td>Coffee</td>\n",
       "      <td>11.99998</td>\n",
       "    </tr>\n",
       "    <tr>\n",
       "      <th>95</th>\n",
       "      <td>High Voltage Coffee (AU)</td>\n",
       "      <td>354.882</td>\n",
       "      <td>0</td>\n",
       "      <td>1150</td>\n",
       "      <td>Coffee</td>\n",
       "      <td>11.99998</td>\n",
       "    </tr>\n",
       "  </tbody>\n",
       "</table>\n",
       "</div>"
      ],
      "text/plain": [
       "                                   drink  Volume (ml)  Calories  \\\n",
       "85             Black Label Brewed Coffee      354.882         0   \n",
       "102                   Very Strong Coffee      354.882         0   \n",
       "92   Devils Brew Extreme Caffeine Coffee      354.882         0   \n",
       "101                     Taft Coffee (EU)      354.882         0   \n",
       "95              High Voltage Coffee (AU)      354.882         0   \n",
       "\n",
       "     Caffeine (mg)    type  Volume (oz)  \n",
       "85            1555  Coffee     11.99998  \n",
       "102           1350  Coffee     11.99998  \n",
       "92            1325  Coffee     11.99998  \n",
       "101           1182  Coffee     11.99998  \n",
       "95            1150  Coffee     11.99998  "
      ]
     },
     "execution_count": 144,
     "metadata": {},
     "output_type": "execute_result"
    }
   ],
   "source": [
    "coffee.sort_values(by='Caffeine (mg)', ascending=False).head()"
   ]
  },
  {
   "cell_type": "markdown",
   "id": "6ae78cc2-1348-4a0d-812e-26c58192293f",
   "metadata": {},
   "source": [
    "> The top 5 high calorie 'coffees'"
   ]
  },
  {
   "cell_type": "code",
   "execution_count": 145,
   "id": "b0fc1eb8-720d-45f2-a183-d094398e6660",
   "metadata": {},
   "outputs": [
    {
     "data": {
      "text/html": [
       "<div>\n",
       "<style scoped>\n",
       "    .dataframe tbody tr th:only-of-type {\n",
       "        vertical-align: middle;\n",
       "    }\n",
       "\n",
       "    .dataframe tbody tr th {\n",
       "        vertical-align: top;\n",
       "    }\n",
       "\n",
       "    .dataframe thead th {\n",
       "        text-align: right;\n",
       "    }\n",
       "</style>\n",
       "<table border=\"1\" class=\"dataframe\">\n",
       "  <thead>\n",
       "    <tr style=\"text-align: right;\">\n",
       "      <th></th>\n",
       "      <th>drink</th>\n",
       "      <th>Volume (ml)</th>\n",
       "      <th>Calories</th>\n",
       "      <th>Caffeine (mg)</th>\n",
       "      <th>type</th>\n",
       "      <th>Volume (oz)</th>\n",
       "    </tr>\n",
       "  </thead>\n",
       "  <tbody>\n",
       "    <tr>\n",
       "      <th>37</th>\n",
       "      <td>Arby's Jamocha Shake</td>\n",
       "      <td>473.176000</td>\n",
       "      <td>830</td>\n",
       "      <td>12</td>\n",
       "      <td>Coffee</td>\n",
       "      <td>15.999973</td>\n",
       "    </tr>\n",
       "    <tr>\n",
       "      <th>30</th>\n",
       "      <td>Baskin Robbins Cappuccino Blast</td>\n",
       "      <td>709.764000</td>\n",
       "      <td>470</td>\n",
       "      <td>234</td>\n",
       "      <td>Coffee</td>\n",
       "      <td>23.999960</td>\n",
       "    </tr>\n",
       "    <tr>\n",
       "      <th>13</th>\n",
       "      <td>Dare Iced Coffee</td>\n",
       "      <td>500.087885</td>\n",
       "      <td>429</td>\n",
       "      <td>160</td>\n",
       "      <td>Coffee</td>\n",
       "      <td>16.909972</td>\n",
       "    </tr>\n",
       "    <tr>\n",
       "      <th>81</th>\n",
       "      <td>Big Train Java Chip Ice Coffee</td>\n",
       "      <td>354.882000</td>\n",
       "      <td>410</td>\n",
       "      <td>49</td>\n",
       "      <td>Coffee</td>\n",
       "      <td>11.999980</td>\n",
       "    </tr>\n",
       "    <tr>\n",
       "      <th>52</th>\n",
       "      <td>Peet's Caffe Mocha</td>\n",
       "      <td>473.176000</td>\n",
       "      <td>390</td>\n",
       "      <td>165</td>\n",
       "      <td>Coffee</td>\n",
       "      <td>15.999973</td>\n",
       "    </tr>\n",
       "  </tbody>\n",
       "</table>\n",
       "</div>"
      ],
      "text/plain": [
       "                              drink  Volume (ml)  Calories  Caffeine (mg)  \\\n",
       "37             Arby's Jamocha Shake   473.176000       830             12   \n",
       "30  Baskin Robbins Cappuccino Blast   709.764000       470            234   \n",
       "13                 Dare Iced Coffee   500.087885       429            160   \n",
       "81   Big Train Java Chip Ice Coffee   354.882000       410             49   \n",
       "52               Peet's Caffe Mocha   473.176000       390            165   \n",
       "\n",
       "      type  Volume (oz)  \n",
       "37  Coffee    15.999973  \n",
       "30  Coffee    23.999960  \n",
       "13  Coffee    16.909972  \n",
       "81  Coffee    11.999980  \n",
       "52  Coffee    15.999973  "
      ]
     },
     "execution_count": 145,
     "metadata": {},
     "output_type": "execute_result"
    }
   ],
   "source": [
    "coffee.sort_values(by='Calories', ascending=False).head()"
   ]
  },
  {
   "cell_type": "markdown",
   "id": "7f3c14ee-2fd7-4cb8-b0e1-b1e8bc02fd39",
   "metadata": {},
   "source": [
    "#### Energy Drinks"
   ]
  },
  {
   "cell_type": "code",
   "execution_count": 146,
   "id": "e73f3ed9-a5c4-43b3-8310-83dae2a4dda5",
   "metadata": {},
   "outputs": [
    {
     "data": {
      "text/html": [
       "<div>\n",
       "<style scoped>\n",
       "    .dataframe tbody tr th:only-of-type {\n",
       "        vertical-align: middle;\n",
       "    }\n",
       "\n",
       "    .dataframe tbody tr th {\n",
       "        vertical-align: top;\n",
       "    }\n",
       "\n",
       "    .dataframe thead th {\n",
       "        text-align: right;\n",
       "    }\n",
       "</style>\n",
       "<table border=\"1\" class=\"dataframe\">\n",
       "  <thead>\n",
       "    <tr style=\"text-align: right;\">\n",
       "      <th></th>\n",
       "      <th>drink</th>\n",
       "      <th>Volume (ml)</th>\n",
       "      <th>Calories</th>\n",
       "      <th>Caffeine (mg)</th>\n",
       "      <th>type</th>\n",
       "      <th>Volume (oz)</th>\n",
       "    </tr>\n",
       "  </thead>\n",
       "  <tbody>\n",
       "    <tr>\n",
       "      <th>173</th>\n",
       "      <td>28 Black Energy Drink</td>\n",
       "      <td>250.19181</td>\n",
       "      <td>125</td>\n",
       "      <td>80</td>\n",
       "      <td>Energy Drinks</td>\n",
       "      <td>8.459986</td>\n",
       "    </tr>\n",
       "    <tr>\n",
       "      <th>174</th>\n",
       "      <td>4 Purpose Energy Drink</td>\n",
       "      <td>250.19181</td>\n",
       "      <td>70</td>\n",
       "      <td>70</td>\n",
       "      <td>Energy Drinks</td>\n",
       "      <td>8.459986</td>\n",
       "    </tr>\n",
       "    <tr>\n",
       "      <th>175</th>\n",
       "      <td>BEEBAD Energy Drink</td>\n",
       "      <td>250.19181</td>\n",
       "      <td>110</td>\n",
       "      <td>80</td>\n",
       "      <td>Energy Drinks</td>\n",
       "      <td>8.459986</td>\n",
       "    </tr>\n",
       "    <tr>\n",
       "      <th>176</th>\n",
       "      <td>Black Bruin Energy Drink</td>\n",
       "      <td>250.19181</td>\n",
       "      <td>122</td>\n",
       "      <td>38</td>\n",
       "      <td>Energy Drinks</td>\n",
       "      <td>8.459986</td>\n",
       "    </tr>\n",
       "    <tr>\n",
       "      <th>177</th>\n",
       "      <td>Blu Frog Energy Drink</td>\n",
       "      <td>250.19181</td>\n",
       "      <td>90</td>\n",
       "      <td>80</td>\n",
       "      <td>Energy Drinks</td>\n",
       "      <td>8.459986</td>\n",
       "    </tr>\n",
       "  </tbody>\n",
       "</table>\n",
       "</div>"
      ],
      "text/plain": [
       "                        drink  Volume (ml)  Calories  Caffeine (mg)  \\\n",
       "173     28 Black Energy Drink    250.19181       125             80   \n",
       "174    4 Purpose Energy Drink    250.19181        70             70   \n",
       "175       BEEBAD Energy Drink    250.19181       110             80   \n",
       "176  Black Bruin Energy Drink    250.19181       122             38   \n",
       "177     Blu Frog Energy Drink    250.19181        90             80   \n",
       "\n",
       "              type  Volume (oz)  \n",
       "173  Energy Drinks     8.459986  \n",
       "174  Energy Drinks     8.459986  \n",
       "175  Energy Drinks     8.459986  \n",
       "176  Energy Drinks     8.459986  \n",
       "177  Energy Drinks     8.459986  "
      ]
     },
     "execution_count": 146,
     "metadata": {},
     "output_type": "execute_result"
    }
   ],
   "source": [
    "energy_drinks = data[data['type']=='Energy Drinks']\n",
    "energy_drinks.head()"
   ]
  },
  {
   "cell_type": "markdown",
   "id": "5ec04772-653e-4969-9a30-de8790239dda",
   "metadata": {},
   "source": [
    "> The top 5 caffeinated 'energy drinks'"
   ]
  },
  {
   "cell_type": "code",
   "execution_count": 147,
   "id": "1196ffce-3c11-4268-8783-a082200e91a7",
   "metadata": {},
   "outputs": [
    {
     "data": {
      "text/html": [
       "<div>\n",
       "<style scoped>\n",
       "    .dataframe tbody tr th:only-of-type {\n",
       "        vertical-align: middle;\n",
       "    }\n",
       "\n",
       "    .dataframe tbody tr th {\n",
       "        vertical-align: top;\n",
       "    }\n",
       "\n",
       "    .dataframe thead th {\n",
       "        text-align: right;\n",
       "    }\n",
       "</style>\n",
       "<table border=\"1\" class=\"dataframe\">\n",
       "  <thead>\n",
       "    <tr style=\"text-align: right;\">\n",
       "      <th></th>\n",
       "      <th>drink</th>\n",
       "      <th>Volume (ml)</th>\n",
       "      <th>Calories</th>\n",
       "      <th>Caffeine (mg)</th>\n",
       "      <th>type</th>\n",
       "      <th>Volume (oz)</th>\n",
       "    </tr>\n",
       "  </thead>\n",
       "  <tbody>\n",
       "    <tr>\n",
       "      <th>348</th>\n",
       "      <td>Hyde Xtreme</td>\n",
       "      <td>354.882</td>\n",
       "      <td>0</td>\n",
       "      <td>400</td>\n",
       "      <td>Energy Drinks</td>\n",
       "      <td>11.999980</td>\n",
       "    </tr>\n",
       "    <tr>\n",
       "      <th>334</th>\n",
       "      <td>BreinFuel</td>\n",
       "      <td>354.882</td>\n",
       "      <td>110</td>\n",
       "      <td>360</td>\n",
       "      <td>Energy Drinks</td>\n",
       "      <td>11.999980</td>\n",
       "    </tr>\n",
       "    <tr>\n",
       "      <th>314</th>\n",
       "      <td>Spike Hardcore Energy</td>\n",
       "      <td>473.176</td>\n",
       "      <td>0</td>\n",
       "      <td>350</td>\n",
       "      <td>Energy Drinks</td>\n",
       "      <td>15.999973</td>\n",
       "    </tr>\n",
       "    <tr>\n",
       "      <th>321</th>\n",
       "      <td>Wired X344 Energy Drink</td>\n",
       "      <td>473.176</td>\n",
       "      <td>220</td>\n",
       "      <td>344</td>\n",
       "      <td>Energy Drinks</td>\n",
       "      <td>15.999973</td>\n",
       "    </tr>\n",
       "    <tr>\n",
       "      <th>275</th>\n",
       "      <td>Loud Energy Drink</td>\n",
       "      <td>473.176</td>\n",
       "      <td>10</td>\n",
       "      <td>320</td>\n",
       "      <td>Energy Drinks</td>\n",
       "      <td>15.999973</td>\n",
       "    </tr>\n",
       "  </tbody>\n",
       "</table>\n",
       "</div>"
      ],
      "text/plain": [
       "                       drink  Volume (ml)  Calories  Caffeine (mg)  \\\n",
       "348              Hyde Xtreme      354.882         0            400   \n",
       "334                BreinFuel      354.882       110            360   \n",
       "314    Spike Hardcore Energy      473.176         0            350   \n",
       "321  Wired X344 Energy Drink      473.176       220            344   \n",
       "275        Loud Energy Drink      473.176        10            320   \n",
       "\n",
       "              type  Volume (oz)  \n",
       "348  Energy Drinks    11.999980  \n",
       "334  Energy Drinks    11.999980  \n",
       "314  Energy Drinks    15.999973  \n",
       "321  Energy Drinks    15.999973  \n",
       "275  Energy Drinks    15.999973  "
      ]
     },
     "execution_count": 147,
     "metadata": {},
     "output_type": "execute_result"
    }
   ],
   "source": [
    "energy_drinks.sort_values(by='Caffeine (mg)', ascending=False).head()"
   ]
  },
  {
   "cell_type": "markdown",
   "id": "0d19efdc-b4fe-4c55-9c33-01088fa8dd03",
   "metadata": {},
   "source": [
    "> The top 5 high calorie 'energy drinks'"
   ]
  },
  {
   "cell_type": "code",
   "execution_count": 148,
   "id": "0f9489ab-d9ac-42a8-9ba6-df2d9a57a0a5",
   "metadata": {},
   "outputs": [
    {
     "data": {
      "text/html": [
       "<div>\n",
       "<style scoped>\n",
       "    .dataframe tbody tr th:only-of-type {\n",
       "        vertical-align: middle;\n",
       "    }\n",
       "\n",
       "    .dataframe tbody tr th {\n",
       "        vertical-align: top;\n",
       "    }\n",
       "\n",
       "    .dataframe thead th {\n",
       "        text-align: right;\n",
       "    }\n",
       "</style>\n",
       "<table border=\"1\" class=\"dataframe\">\n",
       "  <thead>\n",
       "    <tr style=\"text-align: right;\">\n",
       "      <th></th>\n",
       "      <th>drink</th>\n",
       "      <th>Volume (ml)</th>\n",
       "      <th>Calories</th>\n",
       "      <th>Caffeine (mg)</th>\n",
       "      <th>type</th>\n",
       "      <th>Volume (oz)</th>\n",
       "    </tr>\n",
       "  </thead>\n",
       "  <tbody>\n",
       "    <tr>\n",
       "      <th>242</th>\n",
       "      <td>Mega Monster Energy Drink</td>\n",
       "      <td>709.764</td>\n",
       "      <td>320</td>\n",
       "      <td>240</td>\n",
       "      <td>Energy Drinks</td>\n",
       "      <td>23.999960</td>\n",
       "    </tr>\n",
       "    <tr>\n",
       "      <th>297</th>\n",
       "      <td>Rockstar Boom</td>\n",
       "      <td>473.176</td>\n",
       "      <td>280</td>\n",
       "      <td>160</td>\n",
       "      <td>Energy Drinks</td>\n",
       "      <td>15.999973</td>\n",
       "    </tr>\n",
       "    <tr>\n",
       "      <th>301</th>\n",
       "      <td>Rockstar Punched</td>\n",
       "      <td>473.176</td>\n",
       "      <td>260</td>\n",
       "      <td>240</td>\n",
       "      <td>Energy Drinks</td>\n",
       "      <td>15.999973</td>\n",
       "    </tr>\n",
       "    <tr>\n",
       "      <th>273</th>\n",
       "      <td>Joker Mad Energy</td>\n",
       "      <td>473.176</td>\n",
       "      <td>260</td>\n",
       "      <td>160</td>\n",
       "      <td>Energy Drinks</td>\n",
       "      <td>15.999973</td>\n",
       "    </tr>\n",
       "    <tr>\n",
       "      <th>296</th>\n",
       "      <td>Rip It Energy Drink</td>\n",
       "      <td>473.176</td>\n",
       "      <td>260</td>\n",
       "      <td>160</td>\n",
       "      <td>Energy Drinks</td>\n",
       "      <td>15.999973</td>\n",
       "    </tr>\n",
       "  </tbody>\n",
       "</table>\n",
       "</div>"
      ],
      "text/plain": [
       "                         drink  Volume (ml)  Calories  Caffeine (mg)  \\\n",
       "242  Mega Monster Energy Drink      709.764       320            240   \n",
       "297              Rockstar Boom      473.176       280            160   \n",
       "301           Rockstar Punched      473.176       260            240   \n",
       "273           Joker Mad Energy      473.176       260            160   \n",
       "296        Rip It Energy Drink      473.176       260            160   \n",
       "\n",
       "              type  Volume (oz)  \n",
       "242  Energy Drinks    23.999960  \n",
       "297  Energy Drinks    15.999973  \n",
       "301  Energy Drinks    15.999973  \n",
       "273  Energy Drinks    15.999973  \n",
       "296  Energy Drinks    15.999973  "
      ]
     },
     "execution_count": 148,
     "metadata": {},
     "output_type": "execute_result"
    }
   ],
   "source": [
    "energy_drinks.sort_values(by='Calories', ascending=False).head()"
   ]
  },
  {
   "cell_type": "markdown",
   "id": "565f1278-e0c7-41c7-8a9a-1c8e8a25ab4d",
   "metadata": {},
   "source": [
    "### Exploring all features"
   ]
  },
  {
   "cell_type": "code",
   "execution_count": 149,
   "id": "40ff17d5-5396-42d0-bcdf-38a98aeb772f",
   "metadata": {},
   "outputs": [
    {
     "data": {
      "text/html": [
       "<div>\n",
       "<style scoped>\n",
       "    .dataframe tbody tr th:only-of-type {\n",
       "        vertical-align: middle;\n",
       "    }\n",
       "\n",
       "    .dataframe tbody tr th {\n",
       "        vertical-align: top;\n",
       "    }\n",
       "\n",
       "    .dataframe thead th {\n",
       "        text-align: right;\n",
       "    }\n",
       "</style>\n",
       "<table border=\"1\" class=\"dataframe\">\n",
       "  <thead>\n",
       "    <tr style=\"text-align: right;\">\n",
       "      <th></th>\n",
       "      <th>Volume (ml)</th>\n",
       "      <th>Calories</th>\n",
       "      <th>Caffeine (mg)</th>\n",
       "      <th>Volume (oz)</th>\n",
       "    </tr>\n",
       "  </thead>\n",
       "  <tbody>\n",
       "    <tr>\n",
       "      <th>Volume (ml)</th>\n",
       "      <td>1.000000</td>\n",
       "      <td>0.341998</td>\n",
       "      <td>0.110770</td>\n",
       "      <td>1.000000</td>\n",
       "    </tr>\n",
       "    <tr>\n",
       "      <th>Calories</th>\n",
       "      <td>0.341998</td>\n",
       "      <td>1.000000</td>\n",
       "      <td>-0.126021</td>\n",
       "      <td>0.341998</td>\n",
       "    </tr>\n",
       "    <tr>\n",
       "      <th>Caffeine (mg)</th>\n",
       "      <td>0.110770</td>\n",
       "      <td>-0.126021</td>\n",
       "      <td>1.000000</td>\n",
       "      <td>0.110770</td>\n",
       "    </tr>\n",
       "    <tr>\n",
       "      <th>Volume (oz)</th>\n",
       "      <td>1.000000</td>\n",
       "      <td>0.341998</td>\n",
       "      <td>0.110770</td>\n",
       "      <td>1.000000</td>\n",
       "    </tr>\n",
       "  </tbody>\n",
       "</table>\n",
       "</div>"
      ],
      "text/plain": [
       "               Volume (ml)  Calories  Caffeine (mg)  Volume (oz)\n",
       "Volume (ml)       1.000000  0.341998       0.110770     1.000000\n",
       "Calories          0.341998  1.000000      -0.126021     0.341998\n",
       "Caffeine (mg)     0.110770 -0.126021       1.000000     0.110770\n",
       "Volume (oz)       1.000000  0.341998       0.110770     1.000000"
      ]
     },
     "execution_count": 149,
     "metadata": {},
     "output_type": "execute_result"
    }
   ],
   "source": [
    "data.corr()"
   ]
  },
  {
   "cell_type": "code",
   "execution_count": 152,
   "id": "1909d94e-b607-4b22-9bf4-a05712e3ff04",
   "metadata": {},
   "outputs": [
    {
     "data": {
      "image/png": "[encoded data removed]",
      "text/plain": [
       "<Figure size 432x288 with 2 Axes>"
      ]
     },
     "metadata": {
      "needs_background": "light"
     },
     "output_type": "display_data"
    }
   ],
   "source": [
    "sns.heatmap(data.drop(columns='Volume (oz)').corr(), annot=True, vmin=-1);"
   ]
  },
  {
   "cell_type": "markdown",
   "id": "3169d9f2-fd3c-4272-a1d1-f386c6521710",
   "metadata": {},
   "source": [
    "- Nothing in the heatmap really stands out; there's a slight correlation with calories and volume but not very significant"
   ]
  },
  {
   "cell_type": "code",
   "execution_count": 153,
   "id": "5ce07b86-ec4e-4d36-a352-bb8d0f690dce",
   "metadata": {},
   "outputs": [
    {
     "data": {
      "image/png": "[encoded data removed]",
      "text/plain": [
       "<Figure size 862.25x756 with 9 Axes>"
      ]
     },
     "metadata": {
      "needs_background": "light"
     },
     "output_type": "display_data"
    }
   ],
   "source": [
    "sns.pairplot(data.drop(columns='Volume (oz)'), hue='type', corner=True, height=3.5);"
   ]
  },
  {
   "cell_type": "markdown",
   "id": "d068538d-2a16-4651-89f9-e45466e954aa",
   "metadata": {},
   "source": [
    "- The biggest piece of information I took in from this pairplot is that coffee drinks have the most outliers in each of these categories"
   ]
  },
  {
   "cell_type": "markdown",
   "id": "213b6b3d-628d-46aa-a762-36b10ec4b1cc",
   "metadata": {},
   "source": [
    "##### The following kde plots are the same as in the pairplot, just larger. They are showing the distribution of the values in the specific columns based on the type of drink"
   ]
  },
  {
   "cell_type": "code",
   "execution_count": 182,
   "id": "1063270a-639f-4fab-b23d-6445563d8352",
   "metadata": {},
   "outputs": [
    {
     "data": {
      "image/png": "[encoded data removed]",
      "text/plain": [
       "<Figure size 864x576 with 1 Axes>"
      ]
     },
     "metadata": {
      "needs_background": "light"
     },
     "output_type": "display_data"
    }
   ],
   "source": [
    "plt.figure(figsize=(12,8))\n",
    "sns.kdeplot(data=data, x='Calories', hue='type', multiple='layer', fill=True)\n",
    "plt.title('Distribution of Calories Per Type of Drink');"
   ]
  },
  {
   "cell_type": "code",
   "execution_count": 183,
   "id": "f5148d87-1458-4d7e-bf6d-ea938dd25931",
   "metadata": {},
   "outputs": [
    {
     "data": {
      "image/png": "[encoded data removed]",
      "text/plain": [
       "<Figure size 864x576 with 1 Axes>"
      ]
     },
     "metadata": {
      "needs_background": "light"
     },
     "output_type": "display_data"
    }
   ],
   "source": [
    "plt.figure(figsize=(12,8))\n",
    "sns.kdeplot(data=data, x='Caffeine (mg)', hue='type', multiple='layer', fill=True)\n",
    "plt.title('Distribution of Caffeine (mg) Per Type of Drink');"
   ]
  },
  {
   "cell_type": "code",
   "execution_count": 184,
   "id": "eae342db-a93c-4b40-b137-c1b6bc4674e1",
   "metadata": {},
   "outputs": [
    {
     "data": {
      "image/png": "[encoded data removed]",
      "text/plain": [
       "<Figure size 864x576 with 1 Axes>"
      ]
     },
     "metadata": {
      "needs_background": "light"
     },
     "output_type": "display_data"
    }
   ],
   "source": [
    "plt.figure(figsize=(12,8))\n",
    "sns.kdeplot(data=data, x='Volume (oz)', hue='type', multiple='layer', fill=True)\n",
    "plt.title('Distribution of Volume (oz) Per Type of Drink');"
   ]
  },
  {
   "cell_type": "markdown",
   "id": "fa4370a7-e6de-49f2-9e75-93c8b97bb268",
   "metadata": {},
   "source": [
    "### Exploring words in name of drink"
   ]
  },
  {
   "cell_type": "code",
   "execution_count": 161,
   "id": "8afb36ad-eeca-4e5d-a682-32f7aa773935",
   "metadata": {},
   "outputs": [],
   "source": [
    "cv = CountVectorizer()\n",
    "drink_words = cv.fit_transform(data['drink'])"
   ]
  },
  {
   "cell_type": "code",
   "execution_count": 188,
   "id": "727aa8f3-dd78-477b-8faa-c1bd650b4474",
   "metadata": {},
   "outputs": [
    {
     "data": {
      "text/html": [
       "<div>\n",
       "<style scoped>\n",
       "    .dataframe tbody tr th:only-of-type {\n",
       "        vertical-align: middle;\n",
       "    }\n",
       "\n",
       "    .dataframe tbody tr th {\n",
       "        vertical-align: top;\n",
       "    }\n",
       "\n",
       "    .dataframe thead th {\n",
       "        text-align: right;\n",
       "    }\n",
       "</style>\n",
       "<table border=\"1\" class=\"dataframe\">\n",
       "  <thead>\n",
       "    <tr style=\"text-align: right;\">\n",
       "      <th></th>\n",
       "      <th>10</th>\n",
       "      <th>150</th>\n",
       "      <th>18</th>\n",
       "      <th>1899</th>\n",
       "      <th>24</th>\n",
       "      <th>28</th>\n",
       "      <th>2x</th>\n",
       "      <th>300</th>\n",
       "      <th>3000</th>\n",
       "      <th>3d</th>\n",
       "      <th>...</th>\n",
       "      <th>yerbae</th>\n",
       "      <th>ymateina</th>\n",
       "      <th>zero</th>\n",
       "      <th>zest</th>\n",
       "      <th>zevia</th>\n",
       "      <th>zipfizz</th>\n",
       "      <th>zoa</th>\n",
       "      <th>zola</th>\n",
       "      <th>zombie</th>\n",
       "      <th>type</th>\n",
       "    </tr>\n",
       "  </thead>\n",
       "  <tbody>\n",
       "    <tr>\n",
       "      <th>0</th>\n",
       "      <td>0</td>\n",
       "      <td>0</td>\n",
       "      <td>0</td>\n",
       "      <td>0</td>\n",
       "      <td>0</td>\n",
       "      <td>0</td>\n",
       "      <td>0</td>\n",
       "      <td>0</td>\n",
       "      <td>0</td>\n",
       "      <td>0</td>\n",
       "      <td>...</td>\n",
       "      <td>0</td>\n",
       "      <td>0</td>\n",
       "      <td>0</td>\n",
       "      <td>0</td>\n",
       "      <td>0</td>\n",
       "      <td>0</td>\n",
       "      <td>0</td>\n",
       "      <td>0</td>\n",
       "      <td>0</td>\n",
       "      <td>Coffee</td>\n",
       "    </tr>\n",
       "    <tr>\n",
       "      <th>1</th>\n",
       "      <td>0</td>\n",
       "      <td>0</td>\n",
       "      <td>0</td>\n",
       "      <td>0</td>\n",
       "      <td>0</td>\n",
       "      <td>0</td>\n",
       "      <td>0</td>\n",
       "      <td>0</td>\n",
       "      <td>0</td>\n",
       "      <td>0</td>\n",
       "      <td>...</td>\n",
       "      <td>0</td>\n",
       "      <td>0</td>\n",
       "      <td>0</td>\n",
       "      <td>0</td>\n",
       "      <td>0</td>\n",
       "      <td>0</td>\n",
       "      <td>0</td>\n",
       "      <td>0</td>\n",
       "      <td>0</td>\n",
       "      <td>Coffee</td>\n",
       "    </tr>\n",
       "    <tr>\n",
       "      <th>2</th>\n",
       "      <td>0</td>\n",
       "      <td>0</td>\n",
       "      <td>0</td>\n",
       "      <td>0</td>\n",
       "      <td>0</td>\n",
       "      <td>0</td>\n",
       "      <td>0</td>\n",
       "      <td>0</td>\n",
       "      <td>0</td>\n",
       "      <td>0</td>\n",
       "      <td>...</td>\n",
       "      <td>0</td>\n",
       "      <td>0</td>\n",
       "      <td>0</td>\n",
       "      <td>0</td>\n",
       "      <td>0</td>\n",
       "      <td>0</td>\n",
       "      <td>0</td>\n",
       "      <td>0</td>\n",
       "      <td>0</td>\n",
       "      <td>Coffee</td>\n",
       "    </tr>\n",
       "    <tr>\n",
       "      <th>3</th>\n",
       "      <td>0</td>\n",
       "      <td>0</td>\n",
       "      <td>0</td>\n",
       "      <td>0</td>\n",
       "      <td>0</td>\n",
       "      <td>0</td>\n",
       "      <td>0</td>\n",
       "      <td>0</td>\n",
       "      <td>0</td>\n",
       "      <td>0</td>\n",
       "      <td>...</td>\n",
       "      <td>0</td>\n",
       "      <td>0</td>\n",
       "      <td>0</td>\n",
       "      <td>0</td>\n",
       "      <td>0</td>\n",
       "      <td>0</td>\n",
       "      <td>0</td>\n",
       "      <td>0</td>\n",
       "      <td>0</td>\n",
       "      <td>Coffee</td>\n",
       "    </tr>\n",
       "    <tr>\n",
       "      <th>4</th>\n",
       "      <td>0</td>\n",
       "      <td>0</td>\n",
       "      <td>0</td>\n",
       "      <td>0</td>\n",
       "      <td>0</td>\n",
       "      <td>0</td>\n",
       "      <td>0</td>\n",
       "      <td>0</td>\n",
       "      <td>0</td>\n",
       "      <td>0</td>\n",
       "      <td>...</td>\n",
       "      <td>0</td>\n",
       "      <td>0</td>\n",
       "      <td>0</td>\n",
       "      <td>0</td>\n",
       "      <td>0</td>\n",
       "      <td>0</td>\n",
       "      <td>0</td>\n",
       "      <td>0</td>\n",
       "      <td>0</td>\n",
       "      <td>Coffee</td>\n",
       "    </tr>\n",
       "  </tbody>\n",
       "</table>\n",
       "<p>5 rows × 688 columns</p>\n",
       "</div>"
      ],
      "text/plain": [
       "   10  150  18  1899  24  28  2x  300  3000  3d  ...  yerbae  ymateina  zero  \\\n",
       "0   0    0   0     0   0   0   0    0     0   0  ...       0         0     0   \n",
       "1   0    0   0     0   0   0   0    0     0   0  ...       0         0     0   \n",
       "2   0    0   0     0   0   0   0    0     0   0  ...       0         0     0   \n",
       "3   0    0   0     0   0   0   0    0     0   0  ...       0         0     0   \n",
       "4   0    0   0     0   0   0   0    0     0   0  ...       0         0     0   \n",
       "\n",
       "   zest  zevia  zipfizz  zoa  zola  zombie    type  \n",
       "0     0      0        0    0     0       0  Coffee  \n",
       "1     0      0        0    0     0       0  Coffee  \n",
       "2     0      0        0    0     0       0  Coffee  \n",
       "3     0      0        0    0     0       0  Coffee  \n",
       "4     0      0        0    0     0       0  Coffee  \n",
       "\n",
       "[5 rows x 688 columns]"
      ]
     },
     "execution_count": 188,
     "metadata": {},
     "output_type": "execute_result"
    }
   ],
   "source": [
    "drink_words_df = pd.DataFrame(drink_words.A, columns=cv.get_feature_names_out())\n",
    "drink_words_df = pd.concat([drink_words_df, data['type']], axis=1)\n",
    "drink_words_df.head()"
   ]
  },
  {
   "cell_type": "markdown",
   "id": "6f005b5e-fb2a-4e16-987b-34bb53e77c3b",
   "metadata": {},
   "source": [
    "#### Top 10 words in drink name overall"
   ]
  },
  {
   "cell_type": "code",
   "execution_count": 190,
   "id": "d771e1c7-0297-434e-9b2f-72095b3a092d",
   "metadata": {},
   "outputs": [
    {
     "data": {
      "text/plain": [
       "energy       169\n",
       "drink        112\n",
       "coffee       107\n",
       "tea           64\n",
       "iced          33\n",
       "shot          27\n",
       "cola          27\n",
       "brew          27\n",
       "starbucks     27\n",
       "water         24\n",
       "dtype: int64"
      ]
     },
     "execution_count": 190,
     "metadata": {},
     "output_type": "execute_result"
    }
   ],
   "source": [
    "drink_words_df.drop(columns='type').sum().sort_values(ascending=False).head(10)"
   ]
  },
  {
   "cell_type": "code",
   "execution_count": 196,
   "id": "0d5d6c4d-e1e2-44eb-8363-a2786f683ff9",
   "metadata": {},
   "outputs": [
    {
     "data": {
      "image/png": "[encoded data removed]",
      "text/plain": [
       "<Figure size 864x576 with 1 Axes>"
      ]
     },
     "metadata": {
      "needs_background": "light"
     },
     "output_type": "display_data"
    }
   ],
   "source": [
    "ax = drink_words_df.drop(columns='type').sum().sort_values(ascending=False).head(10).sort_values().plot.barh(\n",
    "    figsize=(12,8), title='10 Most Common Words in Drink Name Overall', ylabel='Words'\n",
    ")\n",
    "ax.set_xlabel('Word Count')\n",
    "ax.bar_label(ax.containers[0]);"
   ]
  },
  {
   "cell_type": "code",
   "execution_count": 207,
   "id": "6863ebf3-f2ec-45de-88ae-4fac9ce0c5bc",
   "metadata": {},
   "outputs": [
    {
     "data": {
      "text/plain": [
       "Energy Drinks    219\n",
       "Coffee           173\n",
       "Soft Drinks       90\n",
       "Tea               66\n",
       "Energy Shots      36\n",
       "Water             26\n",
       "Name: type, dtype: int64"
      ]
     },
     "execution_count": 207,
     "metadata": {},
     "output_type": "execute_result"
    }
   ],
   "source": [
    "drink_words_df['type'].value_counts()"
   ]
  },
  {
   "cell_type": "markdown",
   "id": "f0f38940-31eb-40e2-97b6-8d09484d6624",
   "metadata": {},
   "source": [
    "#### Top 10 words in 'coffee' drink name"
   ]
  },
  {
   "cell_type": "code",
   "execution_count": 270,
   "id": "4a73af56-15a5-4dc0-a6c9-fdf7b1053b7e",
   "metadata": {},
   "outputs": [
    {
     "data": {
      "text/plain": [
       "coffee       103\n",
       "starbucks     25\n",
       "brew          23\n",
       "cold          20\n",
       "iced          17\n",
       "brewed        11\n",
       "latte         10\n",
       "instant       10\n",
       "peet          10\n",
       "dunkin         9\n",
       "dtype: int64"
      ]
     },
     "execution_count": 270,
     "metadata": {},
     "output_type": "execute_result"
    }
   ],
   "source": [
    "coffee_words = drink_words_df[drink_words_df['type']=='Coffee']\n",
    "coffee_words = coffee_words.drop(columns='type')\n",
    "coffee_words.sum().sort_values(ascending=False).head(10)"
   ]
  },
  {
   "cell_type": "markdown",
   "id": "870b59d0-49c5-4e4f-9f0e-b40c6aeba3eb",
   "metadata": {},
   "source": [
    "##### Adding percent column for better comparison across all types"
   ]
  },
  {
   "cell_type": "code",
   "execution_count": 281,
   "id": "e2d15873-ac45-4b7d-b045-acdb9f195c0c",
   "metadata": {
    "tags": []
   },
   "outputs": [
    {
     "data": {
      "text/html": [
       "<div>\n",
       "<style scoped>\n",
       "    .dataframe tbody tr th:only-of-type {\n",
       "        vertical-align: middle;\n",
       "    }\n",
       "\n",
       "    .dataframe tbody tr th {\n",
       "        vertical-align: top;\n",
       "    }\n",
       "\n",
       "    .dataframe thead th {\n",
       "        text-align: right;\n",
       "    }\n",
       "</style>\n",
       "<table border=\"1\" class=\"dataframe\">\n",
       "  <thead>\n",
       "    <tr style=\"text-align: right;\">\n",
       "      <th></th>\n",
       "      <th>word_count</th>\n",
       "      <th>percent</th>\n",
       "    </tr>\n",
       "  </thead>\n",
       "  <tbody>\n",
       "    <tr>\n",
       "      <th>coffee</th>\n",
       "      <td>103</td>\n",
       "      <td>46.40</td>\n",
       "    </tr>\n",
       "    <tr>\n",
       "      <th>starbucks</th>\n",
       "      <td>25</td>\n",
       "      <td>11.26</td>\n",
       "    </tr>\n",
       "    <tr>\n",
       "      <th>brew</th>\n",
       "      <td>23</td>\n",
       "      <td>10.36</td>\n",
       "    </tr>\n",
       "    <tr>\n",
       "      <th>cold</th>\n",
       "      <td>20</td>\n",
       "      <td>9.01</td>\n",
       "    </tr>\n",
       "    <tr>\n",
       "      <th>iced</th>\n",
       "      <td>17</td>\n",
       "      <td>7.66</td>\n",
       "    </tr>\n",
       "    <tr>\n",
       "      <th>brewed</th>\n",
       "      <td>11</td>\n",
       "      <td>4.95</td>\n",
       "    </tr>\n",
       "    <tr>\n",
       "      <th>peet</th>\n",
       "      <td>10</td>\n",
       "      <td>4.50</td>\n",
       "    </tr>\n",
       "    <tr>\n",
       "      <th>latte</th>\n",
       "      <td>10</td>\n",
       "      <td>4.50</td>\n",
       "    </tr>\n",
       "    <tr>\n",
       "      <th>instant</th>\n",
       "      <td>10</td>\n",
       "      <td>4.50</td>\n",
       "    </tr>\n",
       "    <tr>\n",
       "      <th>dunkin</th>\n",
       "      <td>9</td>\n",
       "      <td>4.05</td>\n",
       "    </tr>\n",
       "  </tbody>\n",
       "</table>\n",
       "</div>"
      ],
      "text/plain": [
       "           word_count  percent\n",
       "coffee            103    46.40\n",
       "starbucks          25    11.26\n",
       "brew               23    10.36\n",
       "cold               20     9.01\n",
       "iced               17     7.66\n",
       "brewed             11     4.95\n",
       "peet               10     4.50\n",
       "latte              10     4.50\n",
       "instant            10     4.50\n",
       "dunkin              9     4.05"
      ]
     },
     "execution_count": 281,
     "metadata": {},
     "output_type": "execute_result"
    }
   ],
   "source": [
    "coffee_words_df = pd.DataFrame(coffee_words.sum(), columns=['word_count'])\n",
    "coffee_words_df = coffee_words_df[coffee_words_df['word_count']>0]\n",
    "coffee_words_df['percent'] = ((coffee_words_df['word_count'] / 222) * 100).round(2)\n",
    "coffee_words_df.sort_values(by='percent', ascending=False).head(10)"
   ]
  },
  {
   "cell_type": "code",
   "execution_count": 301,
   "id": "6d70d230-d621-43be-91ac-e74d9c67b102",
   "metadata": {
    "tags": []
   },
   "outputs": [
    {
     "data": {
      "image/png": "[encoded data removed]",
      "text/plain": [
       "<Figure size 864x576 with 1 Axes>"
      ]
     },
     "metadata": {
      "needs_background": "light"
     },
     "output_type": "display_data"
    }
   ],
   "source": [
    "ax = coffee_words_df['percent'].sort_values().tail(10).plot.barh(\n",
    "    figsize=(12,8), title='10 Most Common Words in \"Coffee\" Drink Name',fontsize=12\n",
    ")\n",
    "ax.set_xlabel('Frequency of Word (Percent)', fontsize=12)\n",
    "ax.set_ylabel('Words', fontsize=12)\n",
    "ax.bar_label(ax.containers[0], fontsize=12);"
   ]
  },
  {
   "cell_type": "markdown",
   "id": "2efaf1e8-85c1-4634-a5d6-32eda933354c",
   "metadata": {},
   "source": [
    "#### Top 10 words in 'energy drinks' drink name"
   ]
  },
  {
   "cell_type": "code",
   "execution_count": 247,
   "id": "a89b529c-0011-4bb5-878a-0ce7a7d4dc04",
   "metadata": {},
   "outputs": [
    {
     "data": {
      "text/plain": [
       "energy      134\n",
       "drink       109\n",
       "monster      20\n",
       "mix          20\n",
       "rockstar     12\n",
       "uk           11\n",
       "eu           11\n",
       "red           7\n",
       "zero          6\n",
       "fuel          5\n",
       "dtype: int64"
      ]
     },
     "execution_count": 247,
     "metadata": {},
     "output_type": "execute_result"
    }
   ],
   "source": [
    "energy_drinks_words = drink_words_df[drink_words_df['type']=='Energy Drinks']\n",
    "energy_drinks_words = energy_drinks_words.drop(columns='type')\n",
    "energy_drinks_words.sum().sort_values(ascending=False).head(10)"
   ]
  },
  {
   "cell_type": "code",
   "execution_count": 305,
   "id": "6ec2aed2-04e3-49f3-8bd7-08ea1625551e",
   "metadata": {
    "tags": []
   },
   "outputs": [
    {
     "data": {
      "text/html": [
       "<div>\n",
       "<style scoped>\n",
       "    .dataframe tbody tr th:only-of-type {\n",
       "        vertical-align: middle;\n",
       "    }\n",
       "\n",
       "    .dataframe tbody tr th {\n",
       "        vertical-align: top;\n",
       "    }\n",
       "\n",
       "    .dataframe thead th {\n",
       "        text-align: right;\n",
       "    }\n",
       "</style>\n",
       "<table border=\"1\" class=\"dataframe\">\n",
       "  <thead>\n",
       "    <tr style=\"text-align: right;\">\n",
       "      <th></th>\n",
       "      <th>word_count</th>\n",
       "      <th>percent</th>\n",
       "    </tr>\n",
       "  </thead>\n",
       "  <tbody>\n",
       "    <tr>\n",
       "      <th>energy</th>\n",
       "      <td>134</td>\n",
       "      <td>42.54</td>\n",
       "    </tr>\n",
       "    <tr>\n",
       "      <th>drink</th>\n",
       "      <td>109</td>\n",
       "      <td>34.60</td>\n",
       "    </tr>\n",
       "    <tr>\n",
       "      <th>mix</th>\n",
       "      <td>20</td>\n",
       "      <td>6.35</td>\n",
       "    </tr>\n",
       "    <tr>\n",
       "      <th>monster</th>\n",
       "      <td>20</td>\n",
       "      <td>6.35</td>\n",
       "    </tr>\n",
       "    <tr>\n",
       "      <th>rockstar</th>\n",
       "      <td>12</td>\n",
       "      <td>3.81</td>\n",
       "    </tr>\n",
       "    <tr>\n",
       "      <th>eu</th>\n",
       "      <td>11</td>\n",
       "      <td>3.49</td>\n",
       "    </tr>\n",
       "    <tr>\n",
       "      <th>uk</th>\n",
       "      <td>11</td>\n",
       "      <td>3.49</td>\n",
       "    </tr>\n",
       "    <tr>\n",
       "      <th>red</th>\n",
       "      <td>7</td>\n",
       "      <td>2.22</td>\n",
       "    </tr>\n",
       "    <tr>\n",
       "      <th>zero</th>\n",
       "      <td>6</td>\n",
       "      <td>1.90</td>\n",
       "    </tr>\n",
       "    <tr>\n",
       "      <th>fuel</th>\n",
       "      <td>5</td>\n",
       "      <td>1.59</td>\n",
       "    </tr>\n",
       "  </tbody>\n",
       "</table>\n",
       "</div>"
      ],
      "text/plain": [
       "          word_count  percent\n",
       "energy           134    42.54\n",
       "drink            109    34.60\n",
       "mix               20     6.35\n",
       "monster           20     6.35\n",
       "rockstar          12     3.81\n",
       "eu                11     3.49\n",
       "uk                11     3.49\n",
       "red                7     2.22\n",
       "zero               6     1.90\n",
       "fuel               5     1.59"
      ]
     },
     "execution_count": 305,
     "metadata": {},
     "output_type": "execute_result"
    }
   ],
   "source": [
    "energy_drinks_words_df = pd.DataFrame(energy_drinks_words.sum(), columns=['word_count'])\n",
    "energy_drinks_words_df = energy_drinks_words_df[energy_drinks_words_df['word_count']>0]\n",
    "energy_drinks_words_df['percent'] = ((energy_drinks_words_df['word_count'] / 315) * 100).round(2)\n",
    "energy_drinks_words_df.sort_values(by='percent', ascending=False).head(10)"
   ]
  },
  {
   "cell_type": "code",
   "execution_count": 308,
   "id": "d142ec47-98b2-4e7b-aada-a2b303eea1d9",
   "metadata": {},
   "outputs": [
    {
     "data": {
      "image/png": "[encoded data removed]",
      "text/plain": [
       "<Figure size 864x576 with 1 Axes>"
      ]
     },
     "metadata": {
      "needs_background": "light"
     },
     "output_type": "display_data"
    }
   ],
   "source": [
    "ax = energy_drinks_words_df['percent'].sort_values().tail(10).plot.barh(\n",
    "    figsize=(12,8), title='10 Most Common Words in \"Energy Drinks\" Drink Name', fontsize=12\n",
    ")\n",
    "ax.set_xlabel('Frequency of Word (Percent)', fontsize=12)\n",
    "ax.set_ylabel('Words', fontsize=12)\n",
    "ax.bar_label(ax.containers[0], fontsize=12);"
   ]
  },
  {
   "cell_type": "markdown",
   "id": "b6cb5141-c5f0-4a48-b54e-1c14c6de0663",
   "metadata": {},
   "source": [
    "#### Top 10 words in 'soft drinks' drink name"
   ]
  },
  {
   "cell_type": "code",
   "execution_count": 251,
   "id": "c5960624-c35c-4fa7-a014-fef8a5056803",
   "metadata": {},
   "outputs": [
    {
     "data": {
      "text/plain": [
       "cola        24\n",
       "soda        15\n",
       "diet        11\n",
       "mountain    10\n",
       "coca         9\n",
       "dew          9\n",
       "pepsi        8\n",
       "sugar        7\n",
       "zero         6\n",
       "root         5\n",
       "dtype: int64"
      ]
     },
     "execution_count": 251,
     "metadata": {},
     "output_type": "execute_result"
    }
   ],
   "source": [
    "soft_drinks_words = drink_words_df[drink_words_df['type']=='Soft Drinks']\n",
    "soft_drinks_words = soft_drinks_words.drop(columns='type')\n",
    "soft_drinks_words.sum().sort_values(ascending=False).head(10)"
   ]
  },
  {
   "cell_type": "code",
   "execution_count": 310,
   "id": "5acf6e3d-8f56-4eac-9d24-97945b93d4e6",
   "metadata": {
    "tags": []
   },
   "outputs": [
    {
     "data": {
      "text/html": [
       "<div>\n",
       "<style scoped>\n",
       "    .dataframe tbody tr th:only-of-type {\n",
       "        vertical-align: middle;\n",
       "    }\n",
       "\n",
       "    .dataframe tbody tr th {\n",
       "        vertical-align: top;\n",
       "    }\n",
       "\n",
       "    .dataframe thead th {\n",
       "        text-align: right;\n",
       "    }\n",
       "</style>\n",
       "<table border=\"1\" class=\"dataframe\">\n",
       "  <thead>\n",
       "    <tr style=\"text-align: right;\">\n",
       "      <th></th>\n",
       "      <th>word_count</th>\n",
       "      <th>percent</th>\n",
       "    </tr>\n",
       "  </thead>\n",
       "  <tbody>\n",
       "    <tr>\n",
       "      <th>cola</th>\n",
       "      <td>24</td>\n",
       "      <td>21.62</td>\n",
       "    </tr>\n",
       "    <tr>\n",
       "      <th>soda</th>\n",
       "      <td>15</td>\n",
       "      <td>13.51</td>\n",
       "    </tr>\n",
       "    <tr>\n",
       "      <th>diet</th>\n",
       "      <td>11</td>\n",
       "      <td>9.91</td>\n",
       "    </tr>\n",
       "    <tr>\n",
       "      <th>mountain</th>\n",
       "      <td>10</td>\n",
       "      <td>9.01</td>\n",
       "    </tr>\n",
       "    <tr>\n",
       "      <th>dew</th>\n",
       "      <td>9</td>\n",
       "      <td>8.11</td>\n",
       "    </tr>\n",
       "    <tr>\n",
       "      <th>coca</th>\n",
       "      <td>9</td>\n",
       "      <td>8.11</td>\n",
       "    </tr>\n",
       "    <tr>\n",
       "      <th>pepsi</th>\n",
       "      <td>8</td>\n",
       "      <td>7.21</td>\n",
       "    </tr>\n",
       "    <tr>\n",
       "      <th>sugar</th>\n",
       "      <td>7</td>\n",
       "      <td>6.31</td>\n",
       "    </tr>\n",
       "    <tr>\n",
       "      <th>zero</th>\n",
       "      <td>6</td>\n",
       "      <td>5.41</td>\n",
       "    </tr>\n",
       "    <tr>\n",
       "      <th>red</th>\n",
       "      <td>5</td>\n",
       "      <td>4.50</td>\n",
       "    </tr>\n",
       "  </tbody>\n",
       "</table>\n",
       "</div>"
      ],
      "text/plain": [
       "          word_count  percent\n",
       "cola              24    21.62\n",
       "soda              15    13.51\n",
       "diet              11     9.91\n",
       "mountain          10     9.01\n",
       "dew                9     8.11\n",
       "coca               9     8.11\n",
       "pepsi              8     7.21\n",
       "sugar              7     6.31\n",
       "zero               6     5.41\n",
       "red                5     4.50"
      ]
     },
     "execution_count": 310,
     "metadata": {},
     "output_type": "execute_result"
    }
   ],
   "source": [
    "soft_drinks_words_df = pd.DataFrame(soft_drinks_words.sum(), columns=['word_count'])\n",
    "soft_drinks_words_df = soft_drinks_words_df[soft_drinks_words_df['word_count']>0]\n",
    "soft_drinks_words_df['percent'] = ((soft_drinks_words_df['word_count'] / 111) * 100).round(2)\n",
    "soft_drinks_words_df.sort_values(by='percent', ascending=False).head(10)"
   ]
  },
  {
   "cell_type": "code",
   "execution_count": 313,
   "id": "14eeb4e0-c82e-4124-8e9b-d40fdc8642ff",
   "metadata": {},
   "outputs": [
    {
     "data": {
      "image/png": "[encoded data removed]",
      "text/plain": [
       "<Figure size 864x576 with 1 Axes>"
      ]
     },
     "metadata": {
      "needs_background": "light"
     },
     "output_type": "display_data"
    }
   ],
   "source": [
    "ax = soft_drinks_words_df['percent'].sort_values().tail(10).plot.barh(\n",
    "    figsize=(12,8), title='10 Most Common Words in \"Soft Drinks\" Drink Name', fontsize=12\n",
    ")\n",
    "ax.set_xlabel('Frequency of Word (Percent)', fontsize=12)\n",
    "ax.set_ylabel('Words', fontsize=12)\n",
    "ax.bar_label(ax.containers[0], fontsize=12);"
   ]
  },
  {
   "cell_type": "markdown",
   "id": "a113eae3-2f74-45ab-86b8-9b9fca1231cf",
   "metadata": {},
   "source": [
    "#### Top 10 words in 'tea' drink name"
   ]
  },
  {
   "cell_type": "code",
   "execution_count": 255,
   "id": "2b0cb50c-4494-4ebe-b9df-4a69c69d52df",
   "metadata": {},
   "outputs": [
    {
     "data": {
      "text/plain": [
       "tea         57\n",
       "iced        16\n",
       "green        5\n",
       "chai         5\n",
       "brew         4\n",
       "mate         4\n",
       "yerba        4\n",
       "kombucha     4\n",
       "lipton       3\n",
       "black        3\n",
       "dtype: int64"
      ]
     },
     "execution_count": 255,
     "metadata": {},
     "output_type": "execute_result"
    }
   ],
   "source": [
    "tea_words = drink_words_df[drink_words_df['type']=='Tea']\n",
    "tea_words = tea_words.drop(columns='type')\n",
    "tea_words.sum().sort_values(ascending=False).head(10)"
   ]
  },
  {
   "cell_type": "code",
   "execution_count": 315,
   "id": "65d017f3-24d0-4f14-a66f-67192d17b11a",
   "metadata": {
    "tags": []
   },
   "outputs": [
    {
     "data": {
      "text/html": [
       "<div>\n",
       "<style scoped>\n",
       "    .dataframe tbody tr th:only-of-type {\n",
       "        vertical-align: middle;\n",
       "    }\n",
       "\n",
       "    .dataframe tbody tr th {\n",
       "        vertical-align: top;\n",
       "    }\n",
       "\n",
       "    .dataframe thead th {\n",
       "        text-align: right;\n",
       "    }\n",
       "</style>\n",
       "<table border=\"1\" class=\"dataframe\">\n",
       "  <thead>\n",
       "    <tr style=\"text-align: right;\">\n",
       "      <th></th>\n",
       "      <th>word_count</th>\n",
       "      <th>percent</th>\n",
       "    </tr>\n",
       "  </thead>\n",
       "  <tbody>\n",
       "    <tr>\n",
       "      <th>tea</th>\n",
       "      <td>57</td>\n",
       "      <td>62.64</td>\n",
       "    </tr>\n",
       "    <tr>\n",
       "      <th>iced</th>\n",
       "      <td>16</td>\n",
       "      <td>17.58</td>\n",
       "    </tr>\n",
       "    <tr>\n",
       "      <th>chai</th>\n",
       "      <td>5</td>\n",
       "      <td>5.49</td>\n",
       "    </tr>\n",
       "    <tr>\n",
       "      <th>green</th>\n",
       "      <td>5</td>\n",
       "      <td>5.49</td>\n",
       "    </tr>\n",
       "    <tr>\n",
       "      <th>kombucha</th>\n",
       "      <td>4</td>\n",
       "      <td>4.40</td>\n",
       "    </tr>\n",
       "    <tr>\n",
       "      <th>yerba</th>\n",
       "      <td>4</td>\n",
       "      <td>4.40</td>\n",
       "    </tr>\n",
       "    <tr>\n",
       "      <th>brew</th>\n",
       "      <td>4</td>\n",
       "      <td>4.40</td>\n",
       "    </tr>\n",
       "    <tr>\n",
       "      <th>mate</th>\n",
       "      <td>4</td>\n",
       "      <td>4.40</td>\n",
       "    </tr>\n",
       "    <tr>\n",
       "      <th>black</th>\n",
       "      <td>3</td>\n",
       "      <td>3.30</td>\n",
       "    </tr>\n",
       "    <tr>\n",
       "      <th>lipton</th>\n",
       "      <td>3</td>\n",
       "      <td>3.30</td>\n",
       "    </tr>\n",
       "  </tbody>\n",
       "</table>\n",
       "</div>"
      ],
      "text/plain": [
       "          word_count  percent\n",
       "tea               57    62.64\n",
       "iced              16    17.58\n",
       "chai               5     5.49\n",
       "green              5     5.49\n",
       "kombucha           4     4.40\n",
       "yerba              4     4.40\n",
       "brew               4     4.40\n",
       "mate               4     4.40\n",
       "black              3     3.30\n",
       "lipton             3     3.30"
      ]
     },
     "execution_count": 315,
     "metadata": {},
     "output_type": "execute_result"
    }
   ],
   "source": [
    "tea_words_df = pd.DataFrame(tea_words.sum(), columns=['word_count'])\n",
    "tea_words_df = tea_words_df[tea_words_df['word_count']>0]\n",
    "tea_words_df['percent'] = ((tea_words_df['word_count'] / 91) * 100).round(2)\n",
    "tea_words_df.sort_values(by='percent', ascending=False).head(10)"
   ]
  },
  {
   "cell_type": "code",
   "execution_count": 317,
   "id": "c702582b-fb97-4556-83f5-c15de87ad1ab",
   "metadata": {},
   "outputs": [
    {
     "data": {
      "image/png": "[encoded data removed]",
      "text/plain": [
       "<Figure size 864x576 with 1 Axes>"
      ]
     },
     "metadata": {
      "needs_background": "light"
     },
     "output_type": "display_data"
    }
   ],
   "source": [
    "ax = tea_words_df['percent'].sort_values().tail(10).plot.barh(\n",
    "    figsize=(12,8), title='10 Most Common Words in \"Tea\" Drink Name', fontsize=12\n",
    ")\n",
    "ax.set_xlabel('Frequency of Word (Percent)', fontsize=12)\n",
    "ax.set_ylabel('Words', fontsize=12)\n",
    "ax.bar_label(ax.containers[0], fontsize=12);"
   ]
  },
  {
   "cell_type": "markdown",
   "id": "93126a21-86ed-40b2-8005-8603b0c13951",
   "metadata": {},
   "source": [
    "#### Top 10 words in 'energy shots' drink name"
   ]
  },
  {
   "cell_type": "code",
   "execution_count": 259,
   "id": "fff98300-a7cf-4993-8a04-774dec848cf8",
   "metadata": {},
   "outputs": [
    {
     "data": {
      "text/plain": [
       "shot        23\n",
       "energy      23\n",
       "extra        4\n",
       "strength     3\n",
       "red          2\n",
       "potion       2\n",
       "max          2\n",
       "balance      2\n",
       "thunder      2\n",
       "hour         2\n",
       "dtype: int64"
      ]
     },
     "execution_count": 259,
     "metadata": {},
     "output_type": "execute_result"
    }
   ],
   "source": [
    "energy_shots_words = drink_words_df[drink_words_df['type']=='Energy Shots']\n",
    "energy_shots_words = energy_shots_words.drop(columns='type')\n",
    "energy_shots_words.sum().sort_values(ascending=False).head(10)"
   ]
  },
  {
   "cell_type": "code",
   "execution_count": 320,
   "id": "e84cd261-99ed-4b75-b8d4-bcf196b8cb43",
   "metadata": {
    "tags": []
   },
   "outputs": [
    {
     "data": {
      "text/html": [
       "<div>\n",
       "<style scoped>\n",
       "    .dataframe tbody tr th:only-of-type {\n",
       "        vertical-align: middle;\n",
       "    }\n",
       "\n",
       "    .dataframe tbody tr th {\n",
       "        vertical-align: top;\n",
       "    }\n",
       "\n",
       "    .dataframe thead th {\n",
       "        text-align: right;\n",
       "    }\n",
       "</style>\n",
       "<table border=\"1\" class=\"dataframe\">\n",
       "  <thead>\n",
       "    <tr style=\"text-align: right;\">\n",
       "      <th></th>\n",
       "      <th>word_count</th>\n",
       "      <th>percent</th>\n",
       "    </tr>\n",
       "  </thead>\n",
       "  <tbody>\n",
       "    <tr>\n",
       "      <th>energy</th>\n",
       "      <td>23</td>\n",
       "      <td>37.10</td>\n",
       "    </tr>\n",
       "    <tr>\n",
       "      <th>shot</th>\n",
       "      <td>23</td>\n",
       "      <td>37.10</td>\n",
       "    </tr>\n",
       "    <tr>\n",
       "      <th>extra</th>\n",
       "      <td>4</td>\n",
       "      <td>6.45</td>\n",
       "    </tr>\n",
       "    <tr>\n",
       "      <th>strength</th>\n",
       "      <td>3</td>\n",
       "      <td>4.84</td>\n",
       "    </tr>\n",
       "    <tr>\n",
       "      <th>red</th>\n",
       "      <td>2</td>\n",
       "      <td>3.23</td>\n",
       "    </tr>\n",
       "    <tr>\n",
       "      <th>hour</th>\n",
       "      <td>2</td>\n",
       "      <td>3.23</td>\n",
       "    </tr>\n",
       "    <tr>\n",
       "      <th>eternal</th>\n",
       "      <td>2</td>\n",
       "      <td>3.23</td>\n",
       "    </tr>\n",
       "    <tr>\n",
       "      <th>thunder</th>\n",
       "      <td>2</td>\n",
       "      <td>3.23</td>\n",
       "    </tr>\n",
       "    <tr>\n",
       "      <th>redline</th>\n",
       "      <td>2</td>\n",
       "      <td>3.23</td>\n",
       "    </tr>\n",
       "    <tr>\n",
       "      <th>caffeine</th>\n",
       "      <td>2</td>\n",
       "      <td>3.23</td>\n",
       "    </tr>\n",
       "  </tbody>\n",
       "</table>\n",
       "</div>"
      ],
      "text/plain": [
       "          word_count  percent\n",
       "energy            23    37.10\n",
       "shot              23    37.10\n",
       "extra              4     6.45\n",
       "strength           3     4.84\n",
       "red                2     3.23\n",
       "hour               2     3.23\n",
       "eternal            2     3.23\n",
       "thunder            2     3.23\n",
       "redline            2     3.23\n",
       "caffeine           2     3.23"
      ]
     },
     "execution_count": 320,
     "metadata": {},
     "output_type": "execute_result"
    }
   ],
   "source": [
    "energy_shots_words_df = pd.DataFrame(energy_shots_words.sum(), columns=['word_count'])\n",
    "energy_shots_words_df = energy_shots_words_df[energy_shots_words_df['word_count']>0]\n",
    "energy_shots_words_df['percent'] = ((energy_shots_words_df['word_count'] / 62) * 100).round(2)\n",
    "energy_shots_words_df.sort_values(by='percent', ascending=False).head(10)"
   ]
  },
  {
   "cell_type": "code",
   "execution_count": 322,
   "id": "cd6f5eb1-ccb0-4b54-b0c1-c23323034c47",
   "metadata": {},
   "outputs": [
    {
     "data": {
      "image/png": "[encoded data removed]",
      "text/plain": [
       "<Figure size 864x576 with 1 Axes>"
      ]
     },
     "metadata": {
      "needs_background": "light"
     },
     "output_type": "display_data"
    }
   ],
   "source": [
    "ax = energy_shots_words_df['percent'].sort_values().tail(10).plot.barh(\n",
    "    figsize=(12,8), title='10 Most Common Words in \"Energy Shots\" Drink Name', fontsize=12\n",
    ")\n",
    "ax.set_xlabel('Frequency of Word (Percent)', fontsize=12)\n",
    "ax.set_ylabel('Words', fontsize=12)\n",
    "ax.bar_label(ax.containers[0], fontsize=12);"
   ]
  },
  {
   "cell_type": "markdown",
   "id": "6b677a0f-8863-4f2f-9b5e-f26bb1ea41f1",
   "metadata": {},
   "source": [
    "#### Top 10 words in 'water' drink name"
   ]
  },
  {
   "cell_type": "code",
   "execution_count": 263,
   "id": "a4d2b496-2465-421a-a08c-4bb27e69fe55",
   "metadata": {},
   "outputs": [
    {
     "data": {
      "text/plain": [
       "water        22\n",
       "sparkling    15\n",
       "energy        6\n",
       "polar         2\n",
       "perrier       2\n",
       "bubly         2\n",
       "caffeine      2\n",
       "poland        1\n",
       "plus          1\n",
       "spring        1\n",
       "dtype: int64"
      ]
     },
     "execution_count": 263,
     "metadata": {},
     "output_type": "execute_result"
    }
   ],
   "source": [
    "water_words = drink_words_df[drink_words_df['type']=='Water']\n",
    "water_words = water_words.drop(columns='type')\n",
    "water_words.sum().sort_values(ascending=False).head(10)"
   ]
  },
  {
   "cell_type": "code",
   "execution_count": 325,
   "id": "3d337597-6f49-4ad4-b0e3-148f34245abc",
   "metadata": {
    "tags": []
   },
   "outputs": [
    {
     "data": {
      "text/html": [
       "<div>\n",
       "<style scoped>\n",
       "    .dataframe tbody tr th:only-of-type {\n",
       "        vertical-align: middle;\n",
       "    }\n",
       "\n",
       "    .dataframe tbody tr th {\n",
       "        vertical-align: top;\n",
       "    }\n",
       "\n",
       "    .dataframe thead th {\n",
       "        text-align: right;\n",
       "    }\n",
       "</style>\n",
       "<table border=\"1\" class=\"dataframe\">\n",
       "  <thead>\n",
       "    <tr style=\"text-align: right;\">\n",
       "      <th></th>\n",
       "      <th>word_count</th>\n",
       "      <th>percent</th>\n",
       "    </tr>\n",
       "  </thead>\n",
       "  <tbody>\n",
       "    <tr>\n",
       "      <th>water</th>\n",
       "      <td>22</td>\n",
       "      <td>56.41</td>\n",
       "    </tr>\n",
       "    <tr>\n",
       "      <th>sparkling</th>\n",
       "      <td>15</td>\n",
       "      <td>38.46</td>\n",
       "    </tr>\n",
       "    <tr>\n",
       "      <th>energy</th>\n",
       "      <td>6</td>\n",
       "      <td>15.38</td>\n",
       "    </tr>\n",
       "    <tr>\n",
       "      <th>perrier</th>\n",
       "      <td>2</td>\n",
       "      <td>5.13</td>\n",
       "    </tr>\n",
       "    <tr>\n",
       "      <th>bubly</th>\n",
       "      <td>2</td>\n",
       "      <td>5.13</td>\n",
       "    </tr>\n",
       "    <tr>\n",
       "      <th>caffeine</th>\n",
       "      <td>2</td>\n",
       "      <td>5.13</td>\n",
       "    </tr>\n",
       "    <tr>\n",
       "      <th>polar</th>\n",
       "      <td>2</td>\n",
       "      <td>5.13</td>\n",
       "    </tr>\n",
       "    <tr>\n",
       "      <th>pep</th>\n",
       "      <td>1</td>\n",
       "      <td>2.56</td>\n",
       "    </tr>\n",
       "    <tr>\n",
       "      <th>phocus</th>\n",
       "      <td>1</td>\n",
       "      <td>2.56</td>\n",
       "    </tr>\n",
       "    <tr>\n",
       "      <th>plus</th>\n",
       "      <td>1</td>\n",
       "      <td>2.56</td>\n",
       "    </tr>\n",
       "  </tbody>\n",
       "</table>\n",
       "</div>"
      ],
      "text/plain": [
       "           word_count  percent\n",
       "water              22    56.41\n",
       "sparkling          15    38.46\n",
       "energy              6    15.38\n",
       "perrier             2     5.13\n",
       "bubly               2     5.13\n",
       "caffeine            2     5.13\n",
       "polar               2     5.13\n",
       "pep                 1     2.56\n",
       "phocus              1     2.56\n",
       "plus                1     2.56"
      ]
     },
     "execution_count": 325,
     "metadata": {},
     "output_type": "execute_result"
    }
   ],
   "source": [
    "water_words_df = pd.DataFrame(water_words.sum(), columns=['word_count'])\n",
    "water_words_df = water_words_df[water_words_df['word_count']>0]\n",
    "water_words_df['percent'] = ((water_words_df['word_count'] / 39) * 100).round(2)\n",
    "water_words_df.sort_values(by='percent', ascending=False).head(10)"
   ]
  },
  {
   "cell_type": "code",
   "execution_count": 327,
   "id": "eda77fef-06d4-4acf-9411-2e22443aa76a",
   "metadata": {},
   "outputs": [
    {
     "data": {
      "image/png": "[encoded data removed]",
      "text/plain": [
       "<Figure size 864x576 with 1 Axes>"
      ]
     },
     "metadata": {
      "needs_background": "light"
     },
     "output_type": "display_data"
    }
   ],
   "source": [
    "ax = water_words_df['percent'].sort_values().tail(10).plot.barh(\n",
    "    figsize=(12,8), title='10 Most Common Words in \"Water\" Drink Name', fontsize=12\n",
    ")\n",
    "ax.set_xlabel('Frequency of Word (Percent)', fontsize=12)\n",
    "ax.set_ylabel('Words', fontsize=12)\n",
    "ax.bar_label(ax.containers[0], fontsize=12);"
   ]
  },
  {
   "cell_type": "markdown",
   "id": "7e56b7c4-5c25-4930-a053-c47a6964a790",
   "metadata": {},
   "source": [
    "> Unsurprisingly, the top word in each 'type' category (other than soft drinks) is in the beverage type name"
   ]
  }
 ],
 "metadata": {
  "kernelspec": {
   "display_name": "Python 3 (ipykernel)",
   "language": "python",
   "name": "python3"
  },
  "language_info": {
   "codemirror_mode": {
    "name": "ipython",
    "version": 3
   },
   "file_extension": ".py",
   "mimetype": "text/x-python",
   "name": "python",
   "nbconvert_exporter": "python",
   "pygments_lexer": "ipython3",
   "version": "3.9.7"
  }
 },
 "nbformat": 4,
 "nbformat_minor": 5
}
